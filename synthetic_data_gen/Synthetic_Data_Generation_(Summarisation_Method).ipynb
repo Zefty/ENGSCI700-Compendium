{
  "nbformat": 4,
  "nbformat_minor": 0,
  "metadata": {
    "colab": {
      "name": "Synthetic Data Generation (Summarisation Method).ipynb",
      "provenance": [],
      "collapsed_sections": [
        "r3apzRdQHfVs"
      ]
    },
    "kernelspec": {
      "display_name": "Python 3",
      "name": "python3"
    },
    "language_info": {
      "name": "python"
    },
    "accelerator": "GPU",
    "widgets": {
      "application/vnd.jupyter.widget-state+json": {
        "c792da87d5424f1b807e282b33afae2f": {
          "model_module": "@jupyter-widgets/controls",
          "model_name": "HBoxModel",
          "model_module_version": "1.5.0",
          "state": {
            "_view_name": "HBoxView",
            "_dom_classes": [],
            "_model_name": "HBoxModel",
            "_view_module": "@jupyter-widgets/controls",
            "_model_module_version": "1.5.0",
            "_view_count": null,
            "_view_module_version": "1.5.0",
            "box_style": "",
            "layout": "IPY_MODEL_813906a209e64c64a2ee4787b54f65b1",
            "_model_module": "@jupyter-widgets/controls",
            "children": [
              "IPY_MODEL_1e246bc42c114c4ea79a1ec50eee567d",
              "IPY_MODEL_17272a7c7e264b9bb61f3166a023407c"
            ]
          }
        },
        "813906a209e64c64a2ee4787b54f65b1": {
          "model_module": "@jupyter-widgets/base",
          "model_name": "LayoutModel",
          "model_module_version": "1.2.0",
          "state": {
            "_view_name": "LayoutView",
            "grid_template_rows": null,
            "right": null,
            "justify_content": null,
            "_view_module": "@jupyter-widgets/base",
            "overflow": null,
            "_model_module_version": "1.2.0",
            "_view_count": null,
            "flex_flow": null,
            "width": null,
            "min_width": null,
            "border": null,
            "align_items": null,
            "bottom": null,
            "_model_module": "@jupyter-widgets/base",
            "top": null,
            "grid_column": null,
            "overflow_y": null,
            "overflow_x": null,
            "grid_auto_flow": null,
            "grid_area": null,
            "grid_template_columns": null,
            "flex": null,
            "_model_name": "LayoutModel",
            "justify_items": null,
            "grid_row": null,
            "max_height": null,
            "align_content": null,
            "visibility": null,
            "align_self": null,
            "height": null,
            "min_height": null,
            "padding": null,
            "grid_auto_rows": null,
            "grid_gap": null,
            "max_width": null,
            "order": null,
            "_view_module_version": "1.2.0",
            "grid_template_areas": null,
            "object_position": null,
            "object_fit": null,
            "grid_auto_columns": null,
            "margin": null,
            "display": null,
            "left": null
          }
        },
        "1e246bc42c114c4ea79a1ec50eee567d": {
          "model_module": "@jupyter-widgets/controls",
          "model_name": "FloatProgressModel",
          "model_module_version": "1.5.0",
          "state": {
            "_view_name": "ProgressView",
            "style": "IPY_MODEL_bad9abbc10c849cba63cb505ca7fae54",
            "_dom_classes": [],
            "description": "Downloading: 100%",
            "_model_name": "FloatProgressModel",
            "bar_style": "success",
            "max": 25,
            "_view_module": "@jupyter-widgets/controls",
            "_model_module_version": "1.5.0",
            "value": 25,
            "_view_count": null,
            "_view_module_version": "1.5.0",
            "orientation": "horizontal",
            "min": 0,
            "description_tooltip": null,
            "_model_module": "@jupyter-widgets/controls",
            "layout": "IPY_MODEL_eb7d01db53414d4488b90b22c97d094b"
          }
        },
        "17272a7c7e264b9bb61f3166a023407c": {
          "model_module": "@jupyter-widgets/controls",
          "model_name": "HTMLModel",
          "model_module_version": "1.5.0",
          "state": {
            "_view_name": "HTMLView",
            "style": "IPY_MODEL_afcc92452dbd4b70913e9ffb1efa5f24",
            "_dom_classes": [],
            "description": "",
            "_model_name": "HTMLModel",
            "placeholder": "​",
            "_view_module": "@jupyter-widgets/controls",
            "_model_module_version": "1.5.0",
            "value": " 25.0/25.0 [00:05&lt;00:00, 4.77B/s]",
            "_view_count": null,
            "_view_module_version": "1.5.0",
            "description_tooltip": null,
            "_model_module": "@jupyter-widgets/controls",
            "layout": "IPY_MODEL_f312125a57244db5b5f47c879db53467"
          }
        },
        "bad9abbc10c849cba63cb505ca7fae54": {
          "model_module": "@jupyter-widgets/controls",
          "model_name": "ProgressStyleModel",
          "model_module_version": "1.5.0",
          "state": {
            "_view_name": "StyleView",
            "_model_name": "ProgressStyleModel",
            "description_width": "initial",
            "_view_module": "@jupyter-widgets/base",
            "_model_module_version": "1.5.0",
            "_view_count": null,
            "_view_module_version": "1.2.0",
            "bar_color": null,
            "_model_module": "@jupyter-widgets/controls"
          }
        },
        "eb7d01db53414d4488b90b22c97d094b": {
          "model_module": "@jupyter-widgets/base",
          "model_name": "LayoutModel",
          "model_module_version": "1.2.0",
          "state": {
            "_view_name": "LayoutView",
            "grid_template_rows": null,
            "right": null,
            "justify_content": null,
            "_view_module": "@jupyter-widgets/base",
            "overflow": null,
            "_model_module_version": "1.2.0",
            "_view_count": null,
            "flex_flow": null,
            "width": null,
            "min_width": null,
            "border": null,
            "align_items": null,
            "bottom": null,
            "_model_module": "@jupyter-widgets/base",
            "top": null,
            "grid_column": null,
            "overflow_y": null,
            "overflow_x": null,
            "grid_auto_flow": null,
            "grid_area": null,
            "grid_template_columns": null,
            "flex": null,
            "_model_name": "LayoutModel",
            "justify_items": null,
            "grid_row": null,
            "max_height": null,
            "align_content": null,
            "visibility": null,
            "align_self": null,
            "height": null,
            "min_height": null,
            "padding": null,
            "grid_auto_rows": null,
            "grid_gap": null,
            "max_width": null,
            "order": null,
            "_view_module_version": "1.2.0",
            "grid_template_areas": null,
            "object_position": null,
            "object_fit": null,
            "grid_auto_columns": null,
            "margin": null,
            "display": null,
            "left": null
          }
        },
        "afcc92452dbd4b70913e9ffb1efa5f24": {
          "model_module": "@jupyter-widgets/controls",
          "model_name": "DescriptionStyleModel",
          "model_module_version": "1.5.0",
          "state": {
            "_view_name": "StyleView",
            "_model_name": "DescriptionStyleModel",
            "description_width": "",
            "_view_module": "@jupyter-widgets/base",
            "_model_module_version": "1.5.0",
            "_view_count": null,
            "_view_module_version": "1.2.0",
            "_model_module": "@jupyter-widgets/controls"
          }
        },
        "f312125a57244db5b5f47c879db53467": {
          "model_module": "@jupyter-widgets/base",
          "model_name": "LayoutModel",
          "model_module_version": "1.2.0",
          "state": {
            "_view_name": "LayoutView",
            "grid_template_rows": null,
            "right": null,
            "justify_content": null,
            "_view_module": "@jupyter-widgets/base",
            "overflow": null,
            "_model_module_version": "1.2.0",
            "_view_count": null,
            "flex_flow": null,
            "width": null,
            "min_width": null,
            "border": null,
            "align_items": null,
            "bottom": null,
            "_model_module": "@jupyter-widgets/base",
            "top": null,
            "grid_column": null,
            "overflow_y": null,
            "overflow_x": null,
            "grid_auto_flow": null,
            "grid_area": null,
            "grid_template_columns": null,
            "flex": null,
            "_model_name": "LayoutModel",
            "justify_items": null,
            "grid_row": null,
            "max_height": null,
            "align_content": null,
            "visibility": null,
            "align_self": null,
            "height": null,
            "min_height": null,
            "padding": null,
            "grid_auto_rows": null,
            "grid_gap": null,
            "max_width": null,
            "order": null,
            "_view_module_version": "1.2.0",
            "grid_template_areas": null,
            "object_position": null,
            "object_fit": null,
            "grid_auto_columns": null,
            "margin": null,
            "display": null,
            "left": null
          }
        },
        "3352f1c4194540aca5ccc384faf89362": {
          "model_module": "@jupyter-widgets/controls",
          "model_name": "HBoxModel",
          "model_module_version": "1.5.0",
          "state": {
            "_view_name": "HBoxView",
            "_dom_classes": [],
            "_model_name": "HBoxModel",
            "_view_module": "@jupyter-widgets/controls",
            "_model_module_version": "1.5.0",
            "_view_count": null,
            "_view_module_version": "1.5.0",
            "box_style": "",
            "layout": "IPY_MODEL_3b098e8181a7433090b79214c36b0898",
            "_model_module": "@jupyter-widgets/controls",
            "children": [
              "IPY_MODEL_5766071eb6154f6e93ed1fc61b175a31",
              "IPY_MODEL_f8d87f34298c4e119578cbbc7696b564"
            ]
          }
        },
        "3b098e8181a7433090b79214c36b0898": {
          "model_module": "@jupyter-widgets/base",
          "model_name": "LayoutModel",
          "model_module_version": "1.2.0",
          "state": {
            "_view_name": "LayoutView",
            "grid_template_rows": null,
            "right": null,
            "justify_content": null,
            "_view_module": "@jupyter-widgets/base",
            "overflow": null,
            "_model_module_version": "1.2.0",
            "_view_count": null,
            "flex_flow": null,
            "width": null,
            "min_width": null,
            "border": null,
            "align_items": null,
            "bottom": null,
            "_model_module": "@jupyter-widgets/base",
            "top": null,
            "grid_column": null,
            "overflow_y": null,
            "overflow_x": null,
            "grid_auto_flow": null,
            "grid_area": null,
            "grid_template_columns": null,
            "flex": null,
            "_model_name": "LayoutModel",
            "justify_items": null,
            "grid_row": null,
            "max_height": null,
            "align_content": null,
            "visibility": null,
            "align_self": null,
            "height": null,
            "min_height": null,
            "padding": null,
            "grid_auto_rows": null,
            "grid_gap": null,
            "max_width": null,
            "order": null,
            "_view_module_version": "1.2.0",
            "grid_template_areas": null,
            "object_position": null,
            "object_fit": null,
            "grid_auto_columns": null,
            "margin": null,
            "display": null,
            "left": null
          }
        },
        "5766071eb6154f6e93ed1fc61b175a31": {
          "model_module": "@jupyter-widgets/controls",
          "model_name": "FloatProgressModel",
          "model_module_version": "1.5.0",
          "state": {
            "_view_name": "ProgressView",
            "style": "IPY_MODEL_703a73017825456e88ca0671aa2e2d8b",
            "_dom_classes": [],
            "description": "Downloading: 100%",
            "_model_name": "FloatProgressModel",
            "bar_style": "success",
            "max": 1208,
            "_view_module": "@jupyter-widgets/controls",
            "_model_module_version": "1.5.0",
            "value": 1208,
            "_view_count": null,
            "_view_module_version": "1.5.0",
            "orientation": "horizontal",
            "min": 0,
            "description_tooltip": null,
            "_model_module": "@jupyter-widgets/controls",
            "layout": "IPY_MODEL_b33c2abbaab242479282c2cd904d59f6"
          }
        },
        "f8d87f34298c4e119578cbbc7696b564": {
          "model_module": "@jupyter-widgets/controls",
          "model_name": "HTMLModel",
          "model_module_version": "1.5.0",
          "state": {
            "_view_name": "HTMLView",
            "style": "IPY_MODEL_f39a0fd3f7b64a598e6a3bba400df21c",
            "_dom_classes": [],
            "description": "",
            "_model_name": "HTMLModel",
            "placeholder": "​",
            "_view_module": "@jupyter-widgets/controls",
            "_model_module_version": "1.5.0",
            "value": " 1.21k/1.21k [00:01&lt;00:00, 1.04kB/s]",
            "_view_count": null,
            "_view_module_version": "1.5.0",
            "description_tooltip": null,
            "_model_module": "@jupyter-widgets/controls",
            "layout": "IPY_MODEL_ab4e0d2551c548c2b2d5ed2506f4f1c6"
          }
        },
        "703a73017825456e88ca0671aa2e2d8b": {
          "model_module": "@jupyter-widgets/controls",
          "model_name": "ProgressStyleModel",
          "model_module_version": "1.5.0",
          "state": {
            "_view_name": "StyleView",
            "_model_name": "ProgressStyleModel",
            "description_width": "initial",
            "_view_module": "@jupyter-widgets/base",
            "_model_module_version": "1.5.0",
            "_view_count": null,
            "_view_module_version": "1.2.0",
            "bar_color": null,
            "_model_module": "@jupyter-widgets/controls"
          }
        },
        "b33c2abbaab242479282c2cd904d59f6": {
          "model_module": "@jupyter-widgets/base",
          "model_name": "LayoutModel",
          "model_module_version": "1.2.0",
          "state": {
            "_view_name": "LayoutView",
            "grid_template_rows": null,
            "right": null,
            "justify_content": null,
            "_view_module": "@jupyter-widgets/base",
            "overflow": null,
            "_model_module_version": "1.2.0",
            "_view_count": null,
            "flex_flow": null,
            "width": null,
            "min_width": null,
            "border": null,
            "align_items": null,
            "bottom": null,
            "_model_module": "@jupyter-widgets/base",
            "top": null,
            "grid_column": null,
            "overflow_y": null,
            "overflow_x": null,
            "grid_auto_flow": null,
            "grid_area": null,
            "grid_template_columns": null,
            "flex": null,
            "_model_name": "LayoutModel",
            "justify_items": null,
            "grid_row": null,
            "max_height": null,
            "align_content": null,
            "visibility": null,
            "align_self": null,
            "height": null,
            "min_height": null,
            "padding": null,
            "grid_auto_rows": null,
            "grid_gap": null,
            "max_width": null,
            "order": null,
            "_view_module_version": "1.2.0",
            "grid_template_areas": null,
            "object_position": null,
            "object_fit": null,
            "grid_auto_columns": null,
            "margin": null,
            "display": null,
            "left": null
          }
        },
        "f39a0fd3f7b64a598e6a3bba400df21c": {
          "model_module": "@jupyter-widgets/controls",
          "model_name": "DescriptionStyleModel",
          "model_module_version": "1.5.0",
          "state": {
            "_view_name": "StyleView",
            "_model_name": "DescriptionStyleModel",
            "description_width": "",
            "_view_module": "@jupyter-widgets/base",
            "_model_module_version": "1.5.0",
            "_view_count": null,
            "_view_module_version": "1.2.0",
            "_model_module": "@jupyter-widgets/controls"
          }
        },
        "ab4e0d2551c548c2b2d5ed2506f4f1c6": {
          "model_module": "@jupyter-widgets/base",
          "model_name": "LayoutModel",
          "model_module_version": "1.2.0",
          "state": {
            "_view_name": "LayoutView",
            "grid_template_rows": null,
            "right": null,
            "justify_content": null,
            "_view_module": "@jupyter-widgets/base",
            "overflow": null,
            "_model_module_version": "1.2.0",
            "_view_count": null,
            "flex_flow": null,
            "width": null,
            "min_width": null,
            "border": null,
            "align_items": null,
            "bottom": null,
            "_model_module": "@jupyter-widgets/base",
            "top": null,
            "grid_column": null,
            "overflow_y": null,
            "overflow_x": null,
            "grid_auto_flow": null,
            "grid_area": null,
            "grid_template_columns": null,
            "flex": null,
            "_model_name": "LayoutModel",
            "justify_items": null,
            "grid_row": null,
            "max_height": null,
            "align_content": null,
            "visibility": null,
            "align_self": null,
            "height": null,
            "min_height": null,
            "padding": null,
            "grid_auto_rows": null,
            "grid_gap": null,
            "max_width": null,
            "order": null,
            "_view_module_version": "1.2.0",
            "grid_template_areas": null,
            "object_position": null,
            "object_fit": null,
            "grid_auto_columns": null,
            "margin": null,
            "display": null,
            "left": null
          }
        },
        "00ee5aa85add4bfab754681511b2a78b": {
          "model_module": "@jupyter-widgets/controls",
          "model_name": "HBoxModel",
          "model_module_version": "1.5.0",
          "state": {
            "_view_name": "HBoxView",
            "_dom_classes": [],
            "_model_name": "HBoxModel",
            "_view_module": "@jupyter-widgets/controls",
            "_model_module_version": "1.5.0",
            "_view_count": null,
            "_view_module_version": "1.5.0",
            "box_style": "",
            "layout": "IPY_MODEL_e857c5135aba48f9abab3fa6ea1a0f59",
            "_model_module": "@jupyter-widgets/controls",
            "children": [
              "IPY_MODEL_fc17a8b110d842afb56a912169eec6c5",
              "IPY_MODEL_47e3d946dcd940e39abb562ce9f09c4b"
            ]
          }
        },
        "e857c5135aba48f9abab3fa6ea1a0f59": {
          "model_module": "@jupyter-widgets/base",
          "model_name": "LayoutModel",
          "model_module_version": "1.2.0",
          "state": {
            "_view_name": "LayoutView",
            "grid_template_rows": null,
            "right": null,
            "justify_content": null,
            "_view_module": "@jupyter-widgets/base",
            "overflow": null,
            "_model_module_version": "1.2.0",
            "_view_count": null,
            "flex_flow": null,
            "width": null,
            "min_width": null,
            "border": null,
            "align_items": null,
            "bottom": null,
            "_model_module": "@jupyter-widgets/base",
            "top": null,
            "grid_column": null,
            "overflow_y": null,
            "overflow_x": null,
            "grid_auto_flow": null,
            "grid_area": null,
            "grid_template_columns": null,
            "flex": null,
            "_model_name": "LayoutModel",
            "justify_items": null,
            "grid_row": null,
            "max_height": null,
            "align_content": null,
            "visibility": null,
            "align_self": null,
            "height": null,
            "min_height": null,
            "padding": null,
            "grid_auto_rows": null,
            "grid_gap": null,
            "max_width": null,
            "order": null,
            "_view_module_version": "1.2.0",
            "grid_template_areas": null,
            "object_position": null,
            "object_fit": null,
            "grid_auto_columns": null,
            "margin": null,
            "display": null,
            "left": null
          }
        },
        "fc17a8b110d842afb56a912169eec6c5": {
          "model_module": "@jupyter-widgets/controls",
          "model_name": "FloatProgressModel",
          "model_module_version": "1.5.0",
          "state": {
            "_view_name": "ProgressView",
            "style": "IPY_MODEL_eaee53206f6a4fa481b1a596aa3386bd",
            "_dom_classes": [],
            "description": "Downloading: 100%",
            "_model_name": "FloatProgressModel",
            "bar_style": "success",
            "max": 791656,
            "_view_module": "@jupyter-widgets/controls",
            "_model_module_version": "1.5.0",
            "value": 791656,
            "_view_count": null,
            "_view_module_version": "1.5.0",
            "orientation": "horizontal",
            "min": 0,
            "description_tooltip": null,
            "_model_module": "@jupyter-widgets/controls",
            "layout": "IPY_MODEL_0b1e89420249421482f70231479bbe7e"
          }
        },
        "47e3d946dcd940e39abb562ce9f09c4b": {
          "model_module": "@jupyter-widgets/controls",
          "model_name": "HTMLModel",
          "model_module_version": "1.5.0",
          "state": {
            "_view_name": "HTMLView",
            "style": "IPY_MODEL_ed441805420b4e3ab772f80e9c0cd163",
            "_dom_classes": [],
            "description": "",
            "_model_name": "HTMLModel",
            "placeholder": "​",
            "_view_module": "@jupyter-widgets/controls",
            "_model_module_version": "1.5.0",
            "value": " 792k/792k [00:03&lt;00:00, 238kB/s]",
            "_view_count": null,
            "_view_module_version": "1.5.0",
            "description_tooltip": null,
            "_model_module": "@jupyter-widgets/controls",
            "layout": "IPY_MODEL_5e771919bf6e497286d19db747de9941"
          }
        },
        "eaee53206f6a4fa481b1a596aa3386bd": {
          "model_module": "@jupyter-widgets/controls",
          "model_name": "ProgressStyleModel",
          "model_module_version": "1.5.0",
          "state": {
            "_view_name": "StyleView",
            "_model_name": "ProgressStyleModel",
            "description_width": "initial",
            "_view_module": "@jupyter-widgets/base",
            "_model_module_version": "1.5.0",
            "_view_count": null,
            "_view_module_version": "1.2.0",
            "bar_color": null,
            "_model_module": "@jupyter-widgets/controls"
          }
        },
        "0b1e89420249421482f70231479bbe7e": {
          "model_module": "@jupyter-widgets/base",
          "model_name": "LayoutModel",
          "model_module_version": "1.2.0",
          "state": {
            "_view_name": "LayoutView",
            "grid_template_rows": null,
            "right": null,
            "justify_content": null,
            "_view_module": "@jupyter-widgets/base",
            "overflow": null,
            "_model_module_version": "1.2.0",
            "_view_count": null,
            "flex_flow": null,
            "width": null,
            "min_width": null,
            "border": null,
            "align_items": null,
            "bottom": null,
            "_model_module": "@jupyter-widgets/base",
            "top": null,
            "grid_column": null,
            "overflow_y": null,
            "overflow_x": null,
            "grid_auto_flow": null,
            "grid_area": null,
            "grid_template_columns": null,
            "flex": null,
            "_model_name": "LayoutModel",
            "justify_items": null,
            "grid_row": null,
            "max_height": null,
            "align_content": null,
            "visibility": null,
            "align_self": null,
            "height": null,
            "min_height": null,
            "padding": null,
            "grid_auto_rows": null,
            "grid_gap": null,
            "max_width": null,
            "order": null,
            "_view_module_version": "1.2.0",
            "grid_template_areas": null,
            "object_position": null,
            "object_fit": null,
            "grid_auto_columns": null,
            "margin": null,
            "display": null,
            "left": null
          }
        },
        "ed441805420b4e3ab772f80e9c0cd163": {
          "model_module": "@jupyter-widgets/controls",
          "model_name": "DescriptionStyleModel",
          "model_module_version": "1.5.0",
          "state": {
            "_view_name": "StyleView",
            "_model_name": "DescriptionStyleModel",
            "description_width": "",
            "_view_module": "@jupyter-widgets/base",
            "_model_module_version": "1.5.0",
            "_view_count": null,
            "_view_module_version": "1.2.0",
            "_model_module": "@jupyter-widgets/controls"
          }
        },
        "5e771919bf6e497286d19db747de9941": {
          "model_module": "@jupyter-widgets/base",
          "model_name": "LayoutModel",
          "model_module_version": "1.2.0",
          "state": {
            "_view_name": "LayoutView",
            "grid_template_rows": null,
            "right": null,
            "justify_content": null,
            "_view_module": "@jupyter-widgets/base",
            "overflow": null,
            "_model_module_version": "1.2.0",
            "_view_count": null,
            "flex_flow": null,
            "width": null,
            "min_width": null,
            "border": null,
            "align_items": null,
            "bottom": null,
            "_model_module": "@jupyter-widgets/base",
            "top": null,
            "grid_column": null,
            "overflow_y": null,
            "overflow_x": null,
            "grid_auto_flow": null,
            "grid_area": null,
            "grid_template_columns": null,
            "flex": null,
            "_model_name": "LayoutModel",
            "justify_items": null,
            "grid_row": null,
            "max_height": null,
            "align_content": null,
            "visibility": null,
            "align_self": null,
            "height": null,
            "min_height": null,
            "padding": null,
            "grid_auto_rows": null,
            "grid_gap": null,
            "max_width": null,
            "order": null,
            "_view_module_version": "1.2.0",
            "grid_template_areas": null,
            "object_position": null,
            "object_fit": null,
            "grid_auto_columns": null,
            "margin": null,
            "display": null,
            "left": null
          }
        },
        "7a4833992cd8466caa4af86759cb2ae0": {
          "model_module": "@jupyter-widgets/controls",
          "model_name": "HBoxModel",
          "model_module_version": "1.5.0",
          "state": {
            "_view_name": "HBoxView",
            "_dom_classes": [],
            "_model_name": "HBoxModel",
            "_view_module": "@jupyter-widgets/controls",
            "_model_module_version": "1.5.0",
            "_view_count": null,
            "_view_module_version": "1.5.0",
            "box_style": "",
            "layout": "IPY_MODEL_024df21eb404446290756d66b8fe6fa9",
            "_model_module": "@jupyter-widgets/controls",
            "children": [
              "IPY_MODEL_6cb4885e194549189660a49bc24bed71",
              "IPY_MODEL_f02512571c3e419b93c7012841b6da79"
            ]
          }
        },
        "024df21eb404446290756d66b8fe6fa9": {
          "model_module": "@jupyter-widgets/base",
          "model_name": "LayoutModel",
          "model_module_version": "1.2.0",
          "state": {
            "_view_name": "LayoutView",
            "grid_template_rows": null,
            "right": null,
            "justify_content": null,
            "_view_module": "@jupyter-widgets/base",
            "overflow": null,
            "_model_module_version": "1.2.0",
            "_view_count": null,
            "flex_flow": null,
            "width": null,
            "min_width": null,
            "border": null,
            "align_items": null,
            "bottom": null,
            "_model_module": "@jupyter-widgets/base",
            "top": null,
            "grid_column": null,
            "overflow_y": null,
            "overflow_x": null,
            "grid_auto_flow": null,
            "grid_area": null,
            "grid_template_columns": null,
            "flex": null,
            "_model_name": "LayoutModel",
            "justify_items": null,
            "grid_row": null,
            "max_height": null,
            "align_content": null,
            "visibility": null,
            "align_self": null,
            "height": null,
            "min_height": null,
            "padding": null,
            "grid_auto_rows": null,
            "grid_gap": null,
            "max_width": null,
            "order": null,
            "_view_module_version": "1.2.0",
            "grid_template_areas": null,
            "object_position": null,
            "object_fit": null,
            "grid_auto_columns": null,
            "margin": null,
            "display": null,
            "left": null
          }
        },
        "6cb4885e194549189660a49bc24bed71": {
          "model_module": "@jupyter-widgets/controls",
          "model_name": "FloatProgressModel",
          "model_module_version": "1.5.0",
          "state": {
            "_view_name": "ProgressView",
            "style": "IPY_MODEL_74bd2a02198c4cbfb20eeaee8a9739e5",
            "_dom_classes": [],
            "description": "Downloading: 100%",
            "_model_name": "FloatProgressModel",
            "bar_style": "success",
            "max": 39,
            "_view_module": "@jupyter-widgets/controls",
            "_model_module_version": "1.5.0",
            "value": 39,
            "_view_count": null,
            "_view_module_version": "1.5.0",
            "orientation": "horizontal",
            "min": 0,
            "description_tooltip": null,
            "_model_module": "@jupyter-widgets/controls",
            "layout": "IPY_MODEL_8ea0944258144676a2ef46e512f68700"
          }
        },
        "f02512571c3e419b93c7012841b6da79": {
          "model_module": "@jupyter-widgets/controls",
          "model_name": "HTMLModel",
          "model_module_version": "1.5.0",
          "state": {
            "_view_name": "HTMLView",
            "style": "IPY_MODEL_c3242f89d9ae4f89ae645c1b084bd6bc",
            "_dom_classes": [],
            "description": "",
            "_model_name": "HTMLModel",
            "placeholder": "​",
            "_view_module": "@jupyter-widgets/controls",
            "_model_module_version": "1.5.0",
            "value": " 39.0/39.0 [00:01&lt;00:00, 19.9B/s]",
            "_view_count": null,
            "_view_module_version": "1.5.0",
            "description_tooltip": null,
            "_model_module": "@jupyter-widgets/controls",
            "layout": "IPY_MODEL_9dbfd2dc727f472bae3d52dcee8adb04"
          }
        },
        "74bd2a02198c4cbfb20eeaee8a9739e5": {
          "model_module": "@jupyter-widgets/controls",
          "model_name": "ProgressStyleModel",
          "model_module_version": "1.5.0",
          "state": {
            "_view_name": "StyleView",
            "_model_name": "ProgressStyleModel",
            "description_width": "initial",
            "_view_module": "@jupyter-widgets/base",
            "_model_module_version": "1.5.0",
            "_view_count": null,
            "_view_module_version": "1.2.0",
            "bar_color": null,
            "_model_module": "@jupyter-widgets/controls"
          }
        },
        "8ea0944258144676a2ef46e512f68700": {
          "model_module": "@jupyter-widgets/base",
          "model_name": "LayoutModel",
          "model_module_version": "1.2.0",
          "state": {
            "_view_name": "LayoutView",
            "grid_template_rows": null,
            "right": null,
            "justify_content": null,
            "_view_module": "@jupyter-widgets/base",
            "overflow": null,
            "_model_module_version": "1.2.0",
            "_view_count": null,
            "flex_flow": null,
            "width": null,
            "min_width": null,
            "border": null,
            "align_items": null,
            "bottom": null,
            "_model_module": "@jupyter-widgets/base",
            "top": null,
            "grid_column": null,
            "overflow_y": null,
            "overflow_x": null,
            "grid_auto_flow": null,
            "grid_area": null,
            "grid_template_columns": null,
            "flex": null,
            "_model_name": "LayoutModel",
            "justify_items": null,
            "grid_row": null,
            "max_height": null,
            "align_content": null,
            "visibility": null,
            "align_self": null,
            "height": null,
            "min_height": null,
            "padding": null,
            "grid_auto_rows": null,
            "grid_gap": null,
            "max_width": null,
            "order": null,
            "_view_module_version": "1.2.0",
            "grid_template_areas": null,
            "object_position": null,
            "object_fit": null,
            "grid_auto_columns": null,
            "margin": null,
            "display": null,
            "left": null
          }
        },
        "c3242f89d9ae4f89ae645c1b084bd6bc": {
          "model_module": "@jupyter-widgets/controls",
          "model_name": "DescriptionStyleModel",
          "model_module_version": "1.5.0",
          "state": {
            "_view_name": "StyleView",
            "_model_name": "DescriptionStyleModel",
            "description_width": "",
            "_view_module": "@jupyter-widgets/base",
            "_model_module_version": "1.5.0",
            "_view_count": null,
            "_view_module_version": "1.2.0",
            "_model_module": "@jupyter-widgets/controls"
          }
        },
        "9dbfd2dc727f472bae3d52dcee8adb04": {
          "model_module": "@jupyter-widgets/base",
          "model_name": "LayoutModel",
          "model_module_version": "1.2.0",
          "state": {
            "_view_name": "LayoutView",
            "grid_template_rows": null,
            "right": null,
            "justify_content": null,
            "_view_module": "@jupyter-widgets/base",
            "overflow": null,
            "_model_module_version": "1.2.0",
            "_view_count": null,
            "flex_flow": null,
            "width": null,
            "min_width": null,
            "border": null,
            "align_items": null,
            "bottom": null,
            "_model_module": "@jupyter-widgets/base",
            "top": null,
            "grid_column": null,
            "overflow_y": null,
            "overflow_x": null,
            "grid_auto_flow": null,
            "grid_area": null,
            "grid_template_columns": null,
            "flex": null,
            "_model_name": "LayoutModel",
            "justify_items": null,
            "grid_row": null,
            "max_height": null,
            "align_content": null,
            "visibility": null,
            "align_self": null,
            "height": null,
            "min_height": null,
            "padding": null,
            "grid_auto_rows": null,
            "grid_gap": null,
            "max_width": null,
            "order": null,
            "_view_module_version": "1.2.0",
            "grid_template_areas": null,
            "object_position": null,
            "object_fit": null,
            "grid_auto_columns": null,
            "margin": null,
            "display": null,
            "left": null
          }
        },
        "00f2959e054a4986a5c5b52f620d7e57": {
          "model_module": "@jupyter-widgets/controls",
          "model_name": "HBoxModel",
          "model_module_version": "1.5.0",
          "state": {
            "_view_name": "HBoxView",
            "_dom_classes": [],
            "_model_name": "HBoxModel",
            "_view_module": "@jupyter-widgets/controls",
            "_model_module_version": "1.5.0",
            "_view_count": null,
            "_view_module_version": "1.5.0",
            "box_style": "",
            "layout": "IPY_MODEL_991d8b891378438785c7de1c157e7567",
            "_model_module": "@jupyter-widgets/controls",
            "children": [
              "IPY_MODEL_fe52c2048fd343ebad441aeac5622583",
              "IPY_MODEL_c8ae7ecd0dd049879e2d4ddd729259bb"
            ]
          }
        },
        "991d8b891378438785c7de1c157e7567": {
          "model_module": "@jupyter-widgets/base",
          "model_name": "LayoutModel",
          "model_module_version": "1.2.0",
          "state": {
            "_view_name": "LayoutView",
            "grid_template_rows": null,
            "right": null,
            "justify_content": null,
            "_view_module": "@jupyter-widgets/base",
            "overflow": null,
            "_model_module_version": "1.2.0",
            "_view_count": null,
            "flex_flow": null,
            "width": null,
            "min_width": null,
            "border": null,
            "align_items": null,
            "bottom": null,
            "_model_module": "@jupyter-widgets/base",
            "top": null,
            "grid_column": null,
            "overflow_y": null,
            "overflow_x": null,
            "grid_auto_flow": null,
            "grid_area": null,
            "grid_template_columns": null,
            "flex": null,
            "_model_name": "LayoutModel",
            "justify_items": null,
            "grid_row": null,
            "max_height": null,
            "align_content": null,
            "visibility": null,
            "align_self": null,
            "height": null,
            "min_height": null,
            "padding": null,
            "grid_auto_rows": null,
            "grid_gap": null,
            "max_width": null,
            "order": null,
            "_view_module_version": "1.2.0",
            "grid_template_areas": null,
            "object_position": null,
            "object_fit": null,
            "grid_auto_columns": null,
            "margin": null,
            "display": null,
            "left": null
          }
        },
        "fe52c2048fd343ebad441aeac5622583": {
          "model_module": "@jupyter-widgets/controls",
          "model_name": "FloatProgressModel",
          "model_module_version": "1.5.0",
          "state": {
            "_view_name": "ProgressView",
            "style": "IPY_MODEL_a2332206c4d147ae814a859949d9cda7",
            "_dom_classes": [],
            "description": "Downloading: 100%",
            "_model_name": "FloatProgressModel",
            "bar_style": "success",
            "max": 121,
            "_view_module": "@jupyter-widgets/controls",
            "_model_module_version": "1.5.0",
            "value": 121,
            "_view_count": null,
            "_view_module_version": "1.5.0",
            "orientation": "horizontal",
            "min": 0,
            "description_tooltip": null,
            "_model_module": "@jupyter-widgets/controls",
            "layout": "IPY_MODEL_29c0b3799e52412ab57d84ad01e5d2ea"
          }
        },
        "c8ae7ecd0dd049879e2d4ddd729259bb": {
          "model_module": "@jupyter-widgets/controls",
          "model_name": "HTMLModel",
          "model_module_version": "1.5.0",
          "state": {
            "_view_name": "HTMLView",
            "style": "IPY_MODEL_ba865f59c5b141c49054421afa8b4740",
            "_dom_classes": [],
            "description": "",
            "_model_name": "HTMLModel",
            "placeholder": "​",
            "_view_module": "@jupyter-widgets/controls",
            "_model_module_version": "1.5.0",
            "value": " 121/121 [00:01&lt;00:00, 103B/s]",
            "_view_count": null,
            "_view_module_version": "1.5.0",
            "description_tooltip": null,
            "_model_module": "@jupyter-widgets/controls",
            "layout": "IPY_MODEL_c9de73af12204b2bb2c00f289583677a"
          }
        },
        "a2332206c4d147ae814a859949d9cda7": {
          "model_module": "@jupyter-widgets/controls",
          "model_name": "ProgressStyleModel",
          "model_module_version": "1.5.0",
          "state": {
            "_view_name": "StyleView",
            "_model_name": "ProgressStyleModel",
            "description_width": "initial",
            "_view_module": "@jupyter-widgets/base",
            "_model_module_version": "1.5.0",
            "_view_count": null,
            "_view_module_version": "1.2.0",
            "bar_color": null,
            "_model_module": "@jupyter-widgets/controls"
          }
        },
        "29c0b3799e52412ab57d84ad01e5d2ea": {
          "model_module": "@jupyter-widgets/base",
          "model_name": "LayoutModel",
          "model_module_version": "1.2.0",
          "state": {
            "_view_name": "LayoutView",
            "grid_template_rows": null,
            "right": null,
            "justify_content": null,
            "_view_module": "@jupyter-widgets/base",
            "overflow": null,
            "_model_module_version": "1.2.0",
            "_view_count": null,
            "flex_flow": null,
            "width": null,
            "min_width": null,
            "border": null,
            "align_items": null,
            "bottom": null,
            "_model_module": "@jupyter-widgets/base",
            "top": null,
            "grid_column": null,
            "overflow_y": null,
            "overflow_x": null,
            "grid_auto_flow": null,
            "grid_area": null,
            "grid_template_columns": null,
            "flex": null,
            "_model_name": "LayoutModel",
            "justify_items": null,
            "grid_row": null,
            "max_height": null,
            "align_content": null,
            "visibility": null,
            "align_self": null,
            "height": null,
            "min_height": null,
            "padding": null,
            "grid_auto_rows": null,
            "grid_gap": null,
            "max_width": null,
            "order": null,
            "_view_module_version": "1.2.0",
            "grid_template_areas": null,
            "object_position": null,
            "object_fit": null,
            "grid_auto_columns": null,
            "margin": null,
            "display": null,
            "left": null
          }
        },
        "ba865f59c5b141c49054421afa8b4740": {
          "model_module": "@jupyter-widgets/controls",
          "model_name": "DescriptionStyleModel",
          "model_module_version": "1.5.0",
          "state": {
            "_view_name": "StyleView",
            "_model_name": "DescriptionStyleModel",
            "description_width": "",
            "_view_module": "@jupyter-widgets/base",
            "_model_module_version": "1.5.0",
            "_view_count": null,
            "_view_module_version": "1.2.0",
            "_model_module": "@jupyter-widgets/controls"
          }
        },
        "c9de73af12204b2bb2c00f289583677a": {
          "model_module": "@jupyter-widgets/base",
          "model_name": "LayoutModel",
          "model_module_version": "1.2.0",
          "state": {
            "_view_name": "LayoutView",
            "grid_template_rows": null,
            "right": null,
            "justify_content": null,
            "_view_module": "@jupyter-widgets/base",
            "overflow": null,
            "_model_module_version": "1.2.0",
            "_view_count": null,
            "flex_flow": null,
            "width": null,
            "min_width": null,
            "border": null,
            "align_items": null,
            "bottom": null,
            "_model_module": "@jupyter-widgets/base",
            "top": null,
            "grid_column": null,
            "overflow_y": null,
            "overflow_x": null,
            "grid_auto_flow": null,
            "grid_area": null,
            "grid_template_columns": null,
            "flex": null,
            "_model_name": "LayoutModel",
            "justify_items": null,
            "grid_row": null,
            "max_height": null,
            "align_content": null,
            "visibility": null,
            "align_self": null,
            "height": null,
            "min_height": null,
            "padding": null,
            "grid_auto_rows": null,
            "grid_gap": null,
            "max_width": null,
            "order": null,
            "_view_module_version": "1.2.0",
            "grid_template_areas": null,
            "object_position": null,
            "object_fit": null,
            "grid_auto_columns": null,
            "margin": null,
            "display": null,
            "left": null
          }
        },
        "29d7a5f296324672b88c0bc958e994fe": {
          "model_module": "@jupyter-widgets/controls",
          "model_name": "HBoxModel",
          "model_module_version": "1.5.0",
          "state": {
            "_view_name": "HBoxView",
            "_dom_classes": [],
            "_model_name": "HBoxModel",
            "_view_module": "@jupyter-widgets/controls",
            "_model_module_version": "1.5.0",
            "_view_count": null,
            "_view_module_version": "1.5.0",
            "box_style": "",
            "layout": "IPY_MODEL_00fa06595b584b90831980d989545fde",
            "_model_module": "@jupyter-widgets/controls",
            "children": [
              "IPY_MODEL_e5b6656b5624415ab7448afe83bb4e8a",
              "IPY_MODEL_b04f7dc3dae24dea8b1770dd9ee2c3cb"
            ]
          }
        },
        "00fa06595b584b90831980d989545fde": {
          "model_module": "@jupyter-widgets/base",
          "model_name": "LayoutModel",
          "model_module_version": "1.2.0",
          "state": {
            "_view_name": "LayoutView",
            "grid_template_rows": null,
            "right": null,
            "justify_content": null,
            "_view_module": "@jupyter-widgets/base",
            "overflow": null,
            "_model_module_version": "1.2.0",
            "_view_count": null,
            "flex_flow": null,
            "width": null,
            "min_width": null,
            "border": null,
            "align_items": null,
            "bottom": null,
            "_model_module": "@jupyter-widgets/base",
            "top": null,
            "grid_column": null,
            "overflow_y": null,
            "overflow_x": null,
            "grid_auto_flow": null,
            "grid_area": null,
            "grid_template_columns": null,
            "flex": null,
            "_model_name": "LayoutModel",
            "justify_items": null,
            "grid_row": null,
            "max_height": null,
            "align_content": null,
            "visibility": null,
            "align_self": null,
            "height": null,
            "min_height": null,
            "padding": null,
            "grid_auto_rows": null,
            "grid_gap": null,
            "max_width": null,
            "order": null,
            "_view_module_version": "1.2.0",
            "grid_template_areas": null,
            "object_position": null,
            "object_fit": null,
            "grid_auto_columns": null,
            "margin": null,
            "display": null,
            "left": null
          }
        },
        "e5b6656b5624415ab7448afe83bb4e8a": {
          "model_module": "@jupyter-widgets/controls",
          "model_name": "FloatProgressModel",
          "model_module_version": "1.5.0",
          "state": {
            "_view_name": "ProgressView",
            "style": "IPY_MODEL_32fd36283e0843d3a3c5628a271392c4",
            "_dom_classes": [],
            "description": "Downloading: 100%",
            "_model_name": "FloatProgressModel",
            "bar_style": "success",
            "max": 891612736,
            "_view_module": "@jupyter-widgets/controls",
            "_model_module_version": "1.5.0",
            "value": 891612736,
            "_view_count": null,
            "_view_module_version": "1.5.0",
            "orientation": "horizontal",
            "min": 0,
            "description_tooltip": null,
            "_model_module": "@jupyter-widgets/controls",
            "layout": "IPY_MODEL_28ee96306a844cad98d452ec67f5c23a"
          }
        },
        "b04f7dc3dae24dea8b1770dd9ee2c3cb": {
          "model_module": "@jupyter-widgets/controls",
          "model_name": "HTMLModel",
          "model_module_version": "1.5.0",
          "state": {
            "_view_name": "HTMLView",
            "style": "IPY_MODEL_e952256157f84a61ab6221ed63dd0ce8",
            "_dom_classes": [],
            "description": "",
            "_model_name": "HTMLModel",
            "placeholder": "​",
            "_view_module": "@jupyter-widgets/controls",
            "_model_module_version": "1.5.0",
            "value": " 892M/892M [00:30&lt;00:00, 29.5MB/s]",
            "_view_count": null,
            "_view_module_version": "1.5.0",
            "description_tooltip": null,
            "_model_module": "@jupyter-widgets/controls",
            "layout": "IPY_MODEL_36d3c51187ed43cdbe4d586b9dce534f"
          }
        },
        "32fd36283e0843d3a3c5628a271392c4": {
          "model_module": "@jupyter-widgets/controls",
          "model_name": "ProgressStyleModel",
          "model_module_version": "1.5.0",
          "state": {
            "_view_name": "StyleView",
            "_model_name": "ProgressStyleModel",
            "description_width": "initial",
            "_view_module": "@jupyter-widgets/base",
            "_model_module_version": "1.5.0",
            "_view_count": null,
            "_view_module_version": "1.2.0",
            "bar_color": null,
            "_model_module": "@jupyter-widgets/controls"
          }
        },
        "28ee96306a844cad98d452ec67f5c23a": {
          "model_module": "@jupyter-widgets/base",
          "model_name": "LayoutModel",
          "model_module_version": "1.2.0",
          "state": {
            "_view_name": "LayoutView",
            "grid_template_rows": null,
            "right": null,
            "justify_content": null,
            "_view_module": "@jupyter-widgets/base",
            "overflow": null,
            "_model_module_version": "1.2.0",
            "_view_count": null,
            "flex_flow": null,
            "width": null,
            "min_width": null,
            "border": null,
            "align_items": null,
            "bottom": null,
            "_model_module": "@jupyter-widgets/base",
            "top": null,
            "grid_column": null,
            "overflow_y": null,
            "overflow_x": null,
            "grid_auto_flow": null,
            "grid_area": null,
            "grid_template_columns": null,
            "flex": null,
            "_model_name": "LayoutModel",
            "justify_items": null,
            "grid_row": null,
            "max_height": null,
            "align_content": null,
            "visibility": null,
            "align_self": null,
            "height": null,
            "min_height": null,
            "padding": null,
            "grid_auto_rows": null,
            "grid_gap": null,
            "max_width": null,
            "order": null,
            "_view_module_version": "1.2.0",
            "grid_template_areas": null,
            "object_position": null,
            "object_fit": null,
            "grid_auto_columns": null,
            "margin": null,
            "display": null,
            "left": null
          }
        },
        "e952256157f84a61ab6221ed63dd0ce8": {
          "model_module": "@jupyter-widgets/controls",
          "model_name": "DescriptionStyleModel",
          "model_module_version": "1.5.0",
          "state": {
            "_view_name": "StyleView",
            "_model_name": "DescriptionStyleModel",
            "description_width": "",
            "_view_module": "@jupyter-widgets/base",
            "_model_module_version": "1.5.0",
            "_view_count": null,
            "_view_module_version": "1.2.0",
            "_model_module": "@jupyter-widgets/controls"
          }
        },
        "36d3c51187ed43cdbe4d586b9dce534f": {
          "model_module": "@jupyter-widgets/base",
          "model_name": "LayoutModel",
          "model_module_version": "1.2.0",
          "state": {
            "_view_name": "LayoutView",
            "grid_template_rows": null,
            "right": null,
            "justify_content": null,
            "_view_module": "@jupyter-widgets/base",
            "overflow": null,
            "_model_module_version": "1.2.0",
            "_view_count": null,
            "flex_flow": null,
            "width": null,
            "min_width": null,
            "border": null,
            "align_items": null,
            "bottom": null,
            "_model_module": "@jupyter-widgets/base",
            "top": null,
            "grid_column": null,
            "overflow_y": null,
            "overflow_x": null,
            "grid_auto_flow": null,
            "grid_area": null,
            "grid_template_columns": null,
            "flex": null,
            "_model_name": "LayoutModel",
            "justify_items": null,
            "grid_row": null,
            "max_height": null,
            "align_content": null,
            "visibility": null,
            "align_self": null,
            "height": null,
            "min_height": null,
            "padding": null,
            "grid_auto_rows": null,
            "grid_gap": null,
            "max_width": null,
            "order": null,
            "_view_module_version": "1.2.0",
            "grid_template_areas": null,
            "object_position": null,
            "object_fit": null,
            "grid_auto_columns": null,
            "margin": null,
            "display": null,
            "left": null
          }
        }
      }
    }
  },
  "cells": [
    {
      "cell_type": "markdown",
      "metadata": {
        "id": "XY86EAwh-8dm"
      },
      "source": [
        "# Process CORD-19 Data"
      ]
    },
    {
      "cell_type": "code",
      "metadata": {
        "id": "rs4adH9bxuAN"
      },
      "source": [
        "!python --version\n",
        "!pip list -v "
      ],
      "execution_count": null,
      "outputs": []
    },
    {
      "cell_type": "markdown",
      "metadata": {
        "id": "1wtDIt2a8qRj"
      },
      "source": [
        "The code below downloads the cord-19 dataset and extracts the final files into cord_19_embeddings and document_parses. Note that it deletes the zipped files as it goes otherwise we would run out of memory.\n",
        "\n",
        "We want to extract the abstract statements from all documents.\n"
      ]
    },
    {
      "cell_type": "code",
      "metadata": {
        "colab": {
          "base_uri": "https://localhost:8080/"
        },
        "id": "oPfWei-i8VhN",
        "outputId": "13cc5e0c-a7f0-47e4-a6ba-bd0d0c8fca31"
      },
      "source": [
        "!wget https://ai2-semanticscholar-cord-19.s3-us-west-2.amazonaws.com/historical_releases/cord-19_2021-07-26.tar.gz cord-19.tar.gz"
      ],
      "execution_count": null,
      "outputs": [
        {
          "output_type": "stream",
          "text": [
            "--2021-08-04 00:01:08--  https://ai2-semanticscholar-cord-19.s3-us-west-2.amazonaws.com/historical_releases/cord-19_2021-07-26.tar.gz\n",
            "Resolving ai2-semanticscholar-cord-19.s3-us-west-2.amazonaws.com (ai2-semanticscholar-cord-19.s3-us-west-2.amazonaws.com)... 52.218.197.89\n",
            "Connecting to ai2-semanticscholar-cord-19.s3-us-west-2.amazonaws.com (ai2-semanticscholar-cord-19.s3-us-west-2.amazonaws.com)|52.218.197.89|:443... connected.\n",
            "HTTP request sent, awaiting response... 200 OK\n",
            "Length: 11255093164 (10G) [binary/octet-stream]\n",
            "Saving to: ‘cord-19_2021-07-26.tar.gz’\n",
            "\n",
            "cord-19_2021-07-26. 100%[===================>]  10.48G  22.5MB/s    in 8m 19s  \n",
            "\n",
            "2021-08-04 00:09:28 (21.5 MB/s) - ‘cord-19_2021-07-26.tar.gz’ saved [11255093164/11255093164]\n",
            "\n",
            "--2021-08-04 00:09:28--  http://cord-19.tar.gz/\n",
            "Resolving cord-19.tar.gz (cord-19.tar.gz)... failed: Name or service not known.\n",
            "wget: unable to resolve host address ‘cord-19.tar.gz’\n",
            "FINISHED --2021-08-04 00:09:28--\n",
            "Total wall clock time: 8m 20s\n",
            "Downloaded: 1 files, 10G in 8m 19s (21.5 MB/s)\n"
          ],
          "name": "stdout"
        }
      ]
    },
    {
      "cell_type": "code",
      "metadata": {
        "id": "_AVZB0Yu_jv0"
      },
      "source": [
        "import tarfile\n",
        "import os\n",
        "\n",
        "my_tar = tarfile.open('cord-19_2021-07-26.tar.gz')\n",
        "my_tar.extractall('./cord-19') # specify which folder to extract to\n",
        "my_tar.close()\n",
        "os.remove('cord-19_2021-07-26.tar.gz') # deleting as we go to save memory from reaching capacity \n",
        "\n",
        "my_tar = tarfile.open('./cord-19/2021-07-26/cord_19_embeddings.tar.gz')\n",
        "my_tar.extractall('./cord_19_embeddings') # specify which folder to extract to\n",
        "my_tar.close()\n",
        "os.remove('./cord-19/2021-07-26/cord_19_embeddings.tar.gz')\n",
        "\n",
        "my_tar = tarfile.open('./cord-19/2021-07-26/document_parses.tar.gz')\n",
        "my_tar.extractall('./') # specify which folder to extract to\n",
        "my_tar.close()\n",
        "os.remove('./cord-19/2021-07-26/document_parses.tar.gz')"
      ],
      "execution_count": null,
      "outputs": []
    },
    {
      "cell_type": "code",
      "metadata": {
        "colab": {
          "base_uri": "https://localhost:8080/"
        },
        "id": "J0OXOusrCf3x",
        "outputId": "69dd1619-d105-459a-9585-eeb67c4c7e60"
      },
      "source": [
        "!pip install tdqm\n",
        "from tqdm import tqdm"
      ],
      "execution_count": null,
      "outputs": [
        {
          "output_type": "stream",
          "text": [
            "Collecting tdqm\n",
            "  Downloading tdqm-0.0.1.tar.gz (1.4 kB)\n",
            "Requirement already satisfied: tqdm in /usr/local/lib/python3.7/dist-packages (from tdqm) (4.41.1)\n",
            "Building wheels for collected packages: tdqm\n",
            "  Building wheel for tdqm (setup.py) ... \u001b[?25l\u001b[?25hdone\n",
            "  Created wheel for tdqm: filename=tdqm-0.0.1-py3-none-any.whl size=1322 sha256=92bcd0b528db6b469ca97f36f4d5ef472eee54210b2d5eedbb5f934c41a52bca\n",
            "  Stored in directory: /root/.cache/pip/wheels/c6/f0/d9/9fa5ff78c0f9d5a0a427bbbb4893c283520ddfccb885ea2205\n",
            "Successfully built tdqm\n",
            "Installing collected packages: tdqm\n",
            "Successfully installed tdqm-0.0.1\n"
          ],
          "name": "stdout"
        }
      ]
    },
    {
      "cell_type": "code",
      "metadata": {
        "id": "afk66GmuSAee",
        "colab": {
          "base_uri": "https://localhost:8080/"
        },
        "outputId": "8e92b10d-c3dc-4233-9976-b29f1df8ad35"
      },
      "source": [
        "import csv\n",
        "import os\n",
        "import json\n",
        "\n",
        "abstract = open('abstract.csv', 'wt', newline = '')\n",
        "abstract_writer = csv.writer(abstract, delimiter = ',')\n",
        "abstract_writer.writerow(['paper_id', 'abstract'])\n",
        "\n",
        "directory = r'./document_parses/pdf_json'\n",
        "for filename in tqdm(os.listdir(directory)):\n",
        "  f = open(os.path.join(directory, filename))\n",
        "  doc = json.load(f)\n",
        "  print(doc.keys())\n",
        "  print(doc['metadata'])\n",
        "  print(doc['body_text'])\n",
        "  for abst in doc['abstract']:\n",
        "    abstract_writer.writerow([doc['paper_id'], abst['text']])\n",
        "  break\n",
        "  # print('*****************************')\n"
      ],
      "execution_count": null,
      "outputs": [
        {
          "output_type": "stream",
          "text": [
            "  0%|          | 0/240590 [00:00<?, ?it/s]"
          ],
          "name": "stderr"
        },
        {
          "output_type": "stream",
          "text": [
            "dict_keys(['paper_id', 'metadata', 'abstract', 'body_text', 'bib_entries', 'ref_entries', 'back_matter'])\n",
            "{'title': 'Could COVID-19 represent a negative prognostic factor in patients with stroke?', 'authors': [{'first': 'Antonio', 'middle': [], 'last': 'Siniscalchi', 'suffix': '', 'affiliation': {'laboratory': '', 'institution': 'Annunziata Hospital of Cosenza', 'location': {'settlement': 'Cosenza', 'country': 'Italy'}}, 'email': ''}, {'first': 'Luca', 'middle': [], 'last': 'Gallelli', 'suffix': '', 'affiliation': {'laboratory': '', 'institution': 'University of Catanzaro', 'location': {'settlement': 'Catanzaro', 'country': 'Italy'}}, 'email': ''}]}\n",
            "[{'text': 'To the Editor-Coronavirus infectious disease 2019 (COVID-19) is a highly contagious disease that has become a worldwide pandemic. Coronaviruses (CoVs), positive-stranded RNA viruses, are known to cause respiratory or intestinal infections in humans and animals. 1 Coronaviruses are known to affect the cardiovascular system. 2 The SARS-CoV-2 virus uses the enzyme 2 receptor (ACE2) to gain entry into cells, 3 and these receptors have been revealed in the neuronal and glial cells of the human brain. Thus, they may be a potential target of SARS-CoV-2, which might explain the death of olfactory cells in patients with COVID-19. 1 CoVs can enter the central nervous system through 2 distinct pathways: retrograde neuronal diffusion or hematogenous diffusion. The spread of SARS-CoV-2 through the cribriform plaque of the ethmoid bone during an initial or subsequent infection phase can lead to brain involvement. In the systemic circulation, the presence of ACE2 receptors on both capillary and neuronal endothelial cells could be responsible for the subsequent spread and damage to the cerebral nervous system without substantial inflammation. The presence of CoVs in the cerebral nervous system has been confirmed in the cerebrospinal fluid and brain tissues of patients during autopsies. 4, 5 Several symptoms indicative of CNS involvement are present in approximately one-third of COVID-19 patients: dizziness, headache, impaired consciousness, ataxia, epilepsy, and acute cerebrovascular disease. 1 Changes in the coagulation system (ie, D-dimer and platelet abnormalities) 2,6 and in inflammatory biomarkers (eg, interleukin-6, C-reactive protein, and ferritin) 7 have been reported in COVID-19 patients. In patients with stroke, the presence of COVID-19 could be a potential extrinsic factor in the genesis or worsening of stroke. Infection or high levels of proinflammatory biomarkers indicate significantly increased risk of ischemic stroke, especially in the elderly. [8] [9] [10] The onset or worsening of a stroke in these patients could be caused either by direct damage of the CoVs on the nervous system and/or by an activation of the mechanisms of COVID-19 inflammation induced as well coagulation disorders. As the disease spreads and new evidence emerges, we need to identify the existence of additional pathophysiological mechanisms of stroke in COVID-19 patients. We should establish a prospective registry of these patients to better identify the factors most responsible for a possible greater onset or worse prognosis of stroke in these patients and to identify and/or predict a better or lesser response of these patients to thrombolytic treatments.', 'cite_spans': [{'start': 262, 'end': 263, 'text': '1', 'ref_id': 'BIBREF0'}, {'start': 325, 'end': 326, 'text': '2', 'ref_id': 'BIBREF1'}, {'start': 408, 'end': 409, 'text': '3', 'ref_id': 'BIBREF2'}, {'start': 629, 'end': 630, 'text': '1', 'ref_id': 'BIBREF0'}, {'start': 1291, 'end': 1293, 'text': '4,', 'ref_id': 'BIBREF3'}, {'start': 1294, 'end': 1295, 'text': '5', 'ref_id': 'BIBREF4'}, {'start': 1502, 'end': 1503, 'text': '1', 'ref_id': 'BIBREF0'}, {'start': 1668, 'end': 1669, 'text': '7', 'ref_id': 'BIBREF6'}, {'start': 1978, 'end': 1981, 'text': '[8]', 'ref_id': 'BIBREF7'}, {'start': 1982, 'end': 1985, 'text': '[9]', 'ref_id': 'BIBREF8'}, {'start': 1986, 'end': 1990, 'text': '[10]', 'ref_id': 'BIBREF9'}], 'ref_spans': [], 'section': ''}]\n"
          ],
          "name": "stdout"
        },
        {
          "output_type": "stream",
          "text": [
            "\n"
          ],
          "name": "stderr"
        }
      ]
    },
    {
      "cell_type": "code",
      "metadata": {
        "colab": {
          "base_uri": "https://localhost:8080/"
        },
        "id": "LMtn-_f8DED8",
        "outputId": "9b16d37b-53d9-417d-977b-a29538fd4fd6"
      },
      "source": [
        "import csv\n",
        "import os\n",
        "import json\n",
        "\n",
        "# open the file\n",
        "count = 0\n",
        "# num_lines = sum(1 for line in open('cord-19/2021-07-26/metadata.csv','r'))\n",
        "num_lines = 718493\n",
        "with open('cord-19/2021-07-26/metadata.csv') as f_in:\n",
        "    reader = csv.DictReader(f_in)\n",
        "\n",
        "    abstract = open('abstract_intro_conc.csv', 'wt', newline = '')\n",
        "    abstract_writer = csv.writer(abstract, delimiter = ',')\n",
        "    abstract_writer.writerow(['cord_uid', 'title', 'abstract', 'introduction', 'conclusion'])\n",
        "\n",
        "    for row in tqdm(reader, total = num_lines, position = 0, leave = True):\n",
        "        # access some metadata\n",
        "        cord_uid = row['cord_uid']\n",
        "        title = row['title']\n",
        "        abstract = row['abstract']\n",
        "\n",
        "        # access the full text (if available) for Intro\n",
        "        introduction = []\n",
        "        conclusion = []\n",
        "        if row['pdf_json_files']:\n",
        "            # NOTE: We might have multiple json files for the paper e.g. if paper is large \n",
        "            for json_path in row['pdf_json_files'].split('; '): \n",
        "                with open(json_path) as f_json:\n",
        "                    # load the full CORD-19 paper \n",
        "                    full_text_dict = json.load(f_json)\n",
        "                    \n",
        "                    # grab introduction and conclusion section from *some* version of the full text\n",
        "                    for paragraph_dict in full_text_dict['body_text']:\n",
        "                        section_name = paragraph_dict['section']\n",
        "\n",
        "                        # NOTE: Each paragraph has own section so if intro/conc has multiple paragraphs then \n",
        "                        # we have list length = number of paragraphs \n",
        "                        if 'intro' in section_name.lower():\n",
        "                            introduction.append(paragraph_dict['text'])\n",
        "\n",
        "                        if 'concl' in section_name.lower() or 'discu' in section_name.lower():\n",
        "                            conclusion.append(paragraph_dict['text'])\n",
        "\n",
        "                    # stop searching other copies of full text if already got introduction\n",
        "                    if introduction and conclusion:\n",
        "                        break\n",
        "\n",
        "        # # NOTE: Create row for each combination of paragraphs between intro and conc\n",
        "        # for intro_para in introduction:\n",
        "        #   for conc_para in conclusion:\n",
        "        #     abstract_writer.writerow([cord_uid, title, abstract, intro_para, conc_para])\n",
        "        # NOTE: Lol this creates a 11 gb file ... \n",
        "\n",
        "        # Add <PARAGRAPH> as a separator so we know where it is when we join as string \n",
        "        abstract_writer.writerow([cord_uid, title, abstract, '<PARAGRAPH>'.join(introduction), '<PARAGRAPH>'.join(conclusion)])"
      ],
      "execution_count": null,
      "outputs": [
        {
          "output_type": "stream",
          "text": [
            "100%|█████████▉| 718492/718493 [10:10<00:00, 1176.02it/s]\n"
          ],
          "name": "stderr"
        }
      ]
    },
    {
      "cell_type": "code",
      "metadata": {
        "id": "zvesPNdSbzDd"
      },
      "source": [
        "# 1.9gb file \n",
        "import pandas as pd\n",
        "data = pd.read_csv('abstract_intro_conc.csv')"
      ],
      "execution_count": null,
      "outputs": []
    },
    {
      "cell_type": "code",
      "metadata": {
        "id": "8bv8YnKY3hMm"
      },
      "source": [
        "# split file into 3 parts to upload \n",
        "# the google upload fails because 1.9gb file \n",
        "part_1 = int(len(data)/2)\n",
        "part_2 = int(part_1 + part_1/2)"
      ],
      "execution_count": null,
      "outputs": []
    },
    {
      "cell_type": "code",
      "metadata": {
        "id": "mw0D17YP1awQ"
      },
      "source": [
        "data.iloc[0:part_1].to_csv('abstract_intro_conc_part_1.csv', index = False)\n",
        "data.iloc[part_1:part_2].to_csv('abstract_intro_conc_part_2.csv', index = False)\n",
        "data.iloc[part_2:].to_csv('abstract_intro_conc_part_3.csv', index = False)"
      ],
      "execution_count": null,
      "outputs": []
    },
    {
      "cell_type": "code",
      "metadata": {
        "colab": {
          "base_uri": "https://localhost:8080/"
        },
        "id": "lKbN7FJ6XcaW",
        "outputId": "1e976b9c-32b4-4ad8-fd2d-b720457f0806"
      },
      "source": [
        "!pip install --upgrade gupload\n",
        "\n",
        "from google.colab import auth\n",
        "\n",
        "# Authenticate and create the PyDrive client.\n",
        "auth.authenticate_user()\n",
        "\n",
        "!gupload --to '1W9R77oTk_DAMxfSjKGOLNj5xFtoC7gLF' abstract_intro_conc_part_1.csv\n",
        "!gupload --to '1W9R77oTk_DAMxfSjKGOLNj5xFtoC7gLF' abstract_intro_conc_part_2.csv\n",
        "!gupload --to '1W9R77oTk_DAMxfSjKGOLNj5xFtoC7gLF' abstract_intro_conc_part_3.csv"
      ],
      "execution_count": null,
      "outputs": [
        {
          "output_type": "stream",
          "text": [
            "Requirement already satisfied: gupload in /usr/local/lib/python3.7/dist-packages (1.1.0)\n",
            "Requirement already satisfied: google-api-python-client==1.7.10 in /usr/local/lib/python3.7/dist-packages (from gupload) (1.7.10)\n",
            "Requirement already satisfied: click==7.0 in /usr/local/lib/python3.7/dist-packages (from gupload) (7.0)\n",
            "Requirement already satisfied: uritemplate<4dev,>=3.0.0 in /usr/local/lib/python3.7/dist-packages (from google-api-python-client==1.7.10->gupload) (3.0.1)\n",
            "Requirement already satisfied: google-auth>=1.4.1 in /usr/local/lib/python3.7/dist-packages (from google-api-python-client==1.7.10->gupload) (1.32.1)\n",
            "Requirement already satisfied: httplib2<1dev,>=0.9.2 in /usr/local/lib/python3.7/dist-packages (from google-api-python-client==1.7.10->gupload) (0.17.4)\n",
            "Requirement already satisfied: google-auth-httplib2>=0.0.3 in /usr/local/lib/python3.7/dist-packages (from google-api-python-client==1.7.10->gupload) (0.0.4)\n",
            "Requirement already satisfied: six<2dev,>=1.6.1 in /usr/local/lib/python3.7/dist-packages (from google-api-python-client==1.7.10->gupload) (1.15.0)\n",
            "Requirement already satisfied: setuptools>=40.3.0 in /usr/local/lib/python3.7/dist-packages (from google-auth>=1.4.1->google-api-python-client==1.7.10->gupload) (57.2.0)\n",
            "Requirement already satisfied: cachetools<5.0,>=2.0.0 in /usr/local/lib/python3.7/dist-packages (from google-auth>=1.4.1->google-api-python-client==1.7.10->gupload) (4.2.2)\n",
            "Requirement already satisfied: rsa<5,>=3.1.4 in /usr/local/lib/python3.7/dist-packages (from google-auth>=1.4.1->google-api-python-client==1.7.10->gupload) (4.7.2)\n",
            "Requirement already satisfied: pyasn1-modules>=0.2.1 in /usr/local/lib/python3.7/dist-packages (from google-auth>=1.4.1->google-api-python-client==1.7.10->gupload) (0.2.8)\n",
            "Requirement already satisfied: pyasn1<0.5.0,>=0.4.6 in /usr/local/lib/python3.7/dist-packages (from pyasn1-modules>=0.2.1->google-auth>=1.4.1->google-api-python-client==1.7.10->gupload) (0.4.8)\n",
            "Uploading file: abstract_intro_conc_part_1.csv\n",
            "tcmalloc: large alloc 1389166592 bytes == 0x55daa992c000 @  0x7ffb370261e7 0x55da55560a18 0x55da55577e06 0x55da55577ae8 0x55da55580860 0x55da55586f31 0x55da55589fc5 0x55da5552c713 0x55da5552efcc 0x55da55620c0d 0x55da555a30d8 0x55da5559dc35 0x55da5553073a 0x55da5559ed67 0x55da5559e235 0x55da5553073a 0x55da5559f93b 0x55da5559e235 0x55da5553073a 0x55da5559eb0e 0x55da5559e235 0x55da5546fe2c 0x55da555a0318 0x55da5559dc35 0x55da55530fec 0x55da555311f1 0x55da555a0318 0x55da5553065a 0x55da5559ed67 0x55da5559dc35 0x55da55530dd1\n",
            "tcmalloc: large alloc 2083741696 bytes == 0x55dafc5fc000 @  0x7ffb370261e7 0x55da55560a18 0x55da5552b987 0x55da55641f51 0x55da5552c7ad 0x55da5558aaa2 0x55da55589c43 0x55da5552efcc 0x55da55620c0d 0x55da555a30d8 0x55da5553065a 0x55da5559eb0e 0x55da5559ddcc 0x55da5553073a 0x55da5559eb0e 0x55da5553065a 0x55da5559ed67 0x55da5553065a 0x55da5559ed67 0x55da5559dc35 0x55da5553073a 0x55da5559f93b 0x55da5553065a 0x55da5559eb0e 0x55da5553065a 0x55da5559ed67 0x55da5553065a 0x55da5559ed67 0x55da5559dc35 0x55da5553073a 0x55da5559f93b\n",
            "Uploading file: abstract_intro_conc_part_2.csv\n",
            "Uploading file: abstract_intro_conc_part_3.csv\n",
            "tcmalloc: large alloc 1099612160 bytes == 0x5606ed508000 @  0x7fb3ae4cd1e7 0x5606ead65a18 0x5606ead30987 0x5606eae126be 0x5606ead33ea9 0x5606ead33da0 0x5606eada82f9 0x5606ead3565a 0x5606eada3d67 0x5606eada3235 0x5606ead3573a 0x5606eada493b 0x5606eada3235 0x5606ead3573a 0x5606eada3b0e 0x5606eada3235 0x5606eac74e2c 0x5606eada5318 0x5606eada2c35 0x5606ead35fec 0x5606ead361f1 0x5606eada5318 0x5606ead3565a 0x5606eada3d67 0x5606eada2c35 0x5606ead35dd1 0x5606ead361f1 0x5606eada5318 0x5606eada2c35 0x5606ead35dd1 0x5606ead78e79\n",
            "tcmalloc: large alloc 2199216128 bytes == 0x560770660000 @  0x7fb3ae4cd1e7 0x5606ead65a18 0x5606ead7ce06 0x5606ead7cae8 0x5606ead85860 0x5606ead8bf31 0x5606ead8efc5 0x5606ead31713 0x5606ead33fcc 0x5606eae25c0d 0x5606eada80d8 0x5606eada2c35 0x5606ead3573a 0x5606eada3d67 0x5606eada3235 0x5606ead3573a 0x5606eada493b 0x5606eada3235 0x5606ead3573a 0x5606eada3b0e 0x5606eada3235 0x5606eac74e2c 0x5606eada5318 0x5606eada2c35 0x5606ead35fec 0x5606ead361f1 0x5606eada5318 0x5606ead3565a 0x5606eada3d67 0x5606eada2c35 0x5606ead35dd1\n",
            "tcmalloc: large alloc 3298820096 bytes == 0x5607f37b6000 @  0x7fb3ae4cd1e7 0x5606ead65a18 0x5606ead30987 0x5606eae46f51 0x5606ead317ad 0x5606ead8faa2 0x5606ead8ec43 0x5606ead33fcc 0x5606eae25c0d 0x5606eada80d8 0x5606ead3565a 0x5606eada3b0e 0x5606eada2dcc 0x5606ead3573a 0x5606eada3b0e 0x5606ead3565a 0x5606eada3d67 0x5606ead3565a 0x5606eada3d67 0x5606eada2c35 0x5606ead3573a 0x5606eada493b 0x5606ead3565a 0x5606eada3b0e 0x5606ead3565a 0x5606eada3d67 0x5606ead3565a 0x5606eada3d67 0x5606eada2c35 0x5606ead3573a 0x5606eada493b\n"
          ],
          "name": "stdout"
        }
      ]
    },
    {
      "cell_type": "markdown",
      "metadata": {
        "id": "9WVcPV-h_KBk"
      },
      "source": [
        "# Summarization \n",
        "\n",
        "We are generating synthetic data using the summarization method.  \n",
        "- For each abstract, use a summarization model to generate the answer.  \n",
        "- "
      ]
    },
    {
      "cell_type": "code",
      "metadata": {
        "id": "jtFTf8bCZFih"
      },
      "source": [
        "# Download processed abstract data\n",
        "!wget --load-cookies /tmp/cookies.txt \"https://docs.google.com/uc?export=download&confirm=$(wget --quiet --save-cookies /tmp/cookies.txt --keep-session-cookies --no-check-certificate 'https://docs.google.com/uc?export=download&id=1PLtGzINFifKS1g2JOA1xCLcIhzkRYuTO' -O- | sed -rn 's/.*confirm=([0-9A-Za-z_]+).*/\\1\\n/p')&id=1PLtGzINFifKS1g2JOA1xCLcIhzkRYuTO\" -O abstract_intro_conc_part_1.csv && rm -rf /tmp/cookies.txt\n",
        "!wget --load-cookies /tmp/cookies.txt \"https://docs.google.com/uc?export=download&confirm=$(wget --quiet --save-cookies /tmp/cookies.txt --keep-session-cookies --no-check-certificate 'https://docs.google.com/uc?export=download&id=1RPtgVVrtLWSUQyuhftdauP6geKZxjEBN' -O- | sed -rn 's/.*confirm=([0-9A-Za-z_]+).*/\\1\\n/p')&id=1RPtgVVrtLWSUQyuhftdauP6geKZxjEBN\" -O abstract_intro_conc_part_2.csv && rm -rf /tmp/cookies.txt\n",
        "!wget --load-cookies /tmp/cookies.txt \"https://docs.google.com/uc?export=download&confirm=$(wget --quiet --save-cookies /tmp/cookies.txt --keep-session-cookies --no-check-certificate 'https://docs.google.com/uc?export=download&id=11dpbHv7_foyyQhyBeg9hLOTXMusYtb3j' -O- | sed -rn 's/.*confirm=([0-9A-Za-z_]+).*/\\1\\n/p')&id=11dpbHv7_foyyQhyBeg9hLOTXMusYtb3j\" -O abstract_intro_conc_part_3.csv && rm -rf /tmp/cookies.txt"
      ],
      "execution_count": null,
      "outputs": []
    },
    {
      "cell_type": "code",
      "metadata": {
        "id": "3Y09eSPmZZ67"
      },
      "source": [
        "import pandas as pd\n",
        "abstract_intro_conc_part_1 = pd.read_csv('abstract_intro_conc_part_1.csv')\n",
        "abstract_intro_conc_part_2 = pd.read_csv('abstract_intro_conc_part_2.csv')\n",
        "abstract_intro_conc_part_3 = pd.read_csv('abstract_intro_conc_part_3.csv')\n",
        "abstract_intro_conc_part_1 = abstract_intro_conc_part_1.dropna()\n",
        "abstract_intro_conc_part_2 = abstract_intro_conc_part_2.dropna()\n",
        "abstract_intro_conc_part_3 = abstract_intro_conc_part_3.dropna()"
      ],
      "execution_count": null,
      "outputs": []
    },
    {
      "cell_type": "code",
      "metadata": {
        "id": "0s1kQfi9H3It"
      },
      "source": [
        "!pip install transformers\n",
        "from transformers import AutoTokenizer, AutoModelForSeq2SeqLM\n",
        "tokenizer = AutoTokenizer.from_pretrained('lrakotoson/scitldr-catts-xsum-ao')\n",
        "model = AutoModelForSeq2SeqLM.from_pretrained('lrakotoson/scitldr-catts-xsum-ao')\n",
        "device = \"cuda:0\"\n",
        "model = model.to(device)"
      ],
      "execution_count": null,
      "outputs": []
    },
    {
      "cell_type": "code",
      "metadata": {
        "colab": {
          "base_uri": "https://localhost:8080/"
        },
        "id": "_GCsH4wHBGGg",
        "outputId": "25b03014-851f-4673-94d0-46a8c2089948"
      },
      "source": [
        "!pip install tdqm\n",
        "from tqdm import tqdm"
      ],
      "execution_count": null,
      "outputs": [
        {
          "output_type": "stream",
          "text": [
            "Collecting tdqm\n",
            "  Downloading tdqm-0.0.1.tar.gz (1.4 kB)\n",
            "Requirement already satisfied: tqdm in /usr/local/lib/python3.7/dist-packages (from tdqm) (4.41.1)\n",
            "Building wheels for collected packages: tdqm\n",
            "  Building wheel for tdqm (setup.py) ... \u001b[?25l\u001b[?25hdone\n",
            "  Created wheel for tdqm: filename=tdqm-0.0.1-py3-none-any.whl size=1322 sha256=76aab4815a8f79e7fdeb3fabb81201cd0859aa89bd36130d67746953b6495655\n",
            "  Stored in directory: /root/.cache/pip/wheels/c6/f0/d9/9fa5ff78c0f9d5a0a427bbbb4893c283520ddfccb885ea2205\n",
            "Successfully built tdqm\n",
            "Installing collected packages: tdqm\n",
            "Successfully installed tdqm-0.0.1\n"
          ],
          "name": "stdout"
        }
      ]
    },
    {
      "cell_type": "code",
      "metadata": {
        "colab": {
          "base_uri": "https://localhost:8080/"
        },
        "id": "hQboOT25aMqn",
        "outputId": "ad465254-aa05-49fc-8aa6-d104d4b9658b"
      },
      "source": [
        "!nvidia-smi"
      ],
      "execution_count": null,
      "outputs": [
        {
          "output_type": "stream",
          "text": [
            "Wed Aug  4 23:11:18 2021       \n",
            "+-----------------------------------------------------------------------------+\n",
            "| NVIDIA-SMI 470.42.01    Driver Version: 460.32.03    CUDA Version: 11.2     |\n",
            "|-------------------------------+----------------------+----------------------+\n",
            "| GPU  Name        Persistence-M| Bus-Id        Disp.A | Volatile Uncorr. ECC |\n",
            "| Fan  Temp  Perf  Pwr:Usage/Cap|         Memory-Usage | GPU-Util  Compute M. |\n",
            "|                               |                      |               MIG M. |\n",
            "|===============================+======================+======================|\n",
            "|   0  Tesla T4            Off  | 00000000:00:04.0 Off |                    0 |\n",
            "| N/A   52C    P0    28W /  70W |   2626MiB / 15109MiB |      0%      Default |\n",
            "|                               |                      |                  N/A |\n",
            "+-------------------------------+----------------------+----------------------+\n",
            "                                                                               \n",
            "+-----------------------------------------------------------------------------+\n",
            "| Processes:                                                                  |\n",
            "|  GPU   GI   CI        PID   Type   Process name                  GPU Memory |\n",
            "|        ID   ID                                                   Usage      |\n",
            "|=============================================================================|\n",
            "|  No running processes found                                                 |\n",
            "+-----------------------------------------------------------------------------+\n"
          ],
          "name": "stdout"
        }
      ]
    },
    {
      "cell_type": "code",
      "metadata": {
        "id": "R6RDUYp3i3dU"
      },
      "source": [
        "def createSummaries(df, n = 10000, chunkSize = 10, use_pipeline = True):\n",
        "    import math\n",
        "    chunkSize = chunkSize\n",
        "    numberChunks = math.ceil(n / chunkSize) \n",
        "    summary = []\n",
        "    if use_pipeline:\n",
        "        from transformers import pipeline \n",
        "        summarizer = pipeline(\"summarization\", model=model, tokenizer=tokenizer, device=0) # Device = 0 allows us to use the GPU\n",
        "        for i in tqdm(range(numberChunks), position = 0, leave = True):\n",
        "            summary.extend(summarizer(df.head(n = n).iloc[i*chunkSize:(i+1)*chunkSize]['abstract'].to_list(), truncation = True))\n",
        "        return summary\n",
        "    else: \n",
        "        for i in tqdm(range(n), position = 0, leave = True):\n",
        "            inputs = tokenizer.encode(\"summarize: \" + df.iloc[i]['abstract'], return_tensors = \"pt\", max_length = 512, truncation = True).to(0)\n",
        "            outputs = model.generate(inputs, length_penalty=2.0, num_beams=4, early_stopping=True)\n",
        "            summary.append(tokenizer.decode(outputs[0]))\n",
        "        return summary\n"
      ],
      "execution_count": null,
      "outputs": []
    },
    {
      "cell_type": "code",
      "metadata": {
        "id": "6NpEB2Nk6Mvo"
      },
      "source": [
        "summaries = createSummaries(abstract_intro_conc_part_1, len(abstract_intro_conc_part_1))"
      ],
      "execution_count": null,
      "outputs": []
    },
    {
      "cell_type": "code",
      "metadata": {
        "id": "ZagDkK6wRhEL"
      },
      "source": [
        ""
      ],
      "execution_count": null,
      "outputs": []
    },
    {
      "cell_type": "code",
      "metadata": {
        "id": "0P15g5YSPJTi"
      },
      "source": [
        "abstract_intro_conc_part_1['answer'] = [s['summary_text'] for s in summaries]\n",
        "abstract_intro_conc_part_1.to_csv(\"abstract_intro_conc_ans_part_1.csv\")"
      ],
      "execution_count": null,
      "outputs": []
    },
    {
      "cell_type": "code",
      "metadata": {
        "colab": {
          "base_uri": "https://localhost:8080/"
        },
        "id": "-4Ty6mTEvlWD",
        "outputId": "ac81b770-8969-43b3-cdd0-0da428ff6d68"
      },
      "source": [
        "summaries = createSummaries(abstract_intro_conc_part_2, len(abstract_intro_conc_part_2))"
      ],
      "execution_count": null,
      "outputs": [
        {
          "output_type": "stream",
          "text": [
            "100%|██████████| 931/931 [38:08<00:00,  2.46s/it]\n"
          ],
          "name": "stderr"
        }
      ]
    },
    {
      "cell_type": "code",
      "metadata": {
        "id": "aiD1UcN175z7"
      },
      "source": [
        "abstract_intro_conc_part_2['answer'] = [s['summary_text'] for s in summaries]\n",
        "abstract_intro_conc_part_2.to_csv(\"abstract_intro_conc_ans_part_2.csv\")"
      ],
      "execution_count": null,
      "outputs": []
    },
    {
      "cell_type": "code",
      "metadata": {
        "colab": {
          "base_uri": "https://localhost:8080/"
        },
        "id": "VwsE62JG8DSu",
        "outputId": "7518c28f-f1c4-4a60-b5da-467183ded47f"
      },
      "source": [
        "summaries = createSummaries(abstract_intro_conc_part_3, len(abstract_intro_conc_part_3))"
      ],
      "execution_count": null,
      "outputs": [
        {
          "output_type": "stream",
          "text": [
            "  0%|          | 0/7939 [00:00<?, ?it/s]/usr/local/lib/python3.7/dist-packages/torch/_tensor.py:575: UserWarning: floor_divide is deprecated, and will be removed in a future version of pytorch. It currently rounds toward 0 (like the 'trunc' function NOT 'floor'). This results in incorrect rounding for negative values.\n",
            "To keep the current behavior, use torch.div(a, b, rounding_mode='trunc'), or for actual floor division, use torch.div(a, b, rounding_mode='floor'). (Triggered internally at  /pytorch/aten/src/ATen/native/BinaryOps.cpp:467.)\n",
            "  return torch.floor_divide(self, other)\n",
            " 64%|██████▍   | 5099/7939 [3:49:31<1:56:22,  2.46s/it]"
          ],
          "name": "stderr"
        }
      ]
    },
    {
      "cell_type": "code",
      "metadata": {
        "id": "K3TpW6ia8ip1"
      },
      "source": [
        "abstract_intro_conc_part_3['answer'] = [s['summary_text'] for s in summaries]\n",
        "abstract_intro_conc_part_3.to_csv(\"abstract_intro_conc_ans_part_3.csv\")"
      ],
      "execution_count": null,
      "outputs": []
    },
    {
      "cell_type": "code",
      "metadata": {
        "id": "AqjwyYepHFHZ"
      },
      "source": [
        "!pip install --upgrade gupload\n",
        "\n",
        "from google.colab import auth\n",
        "\n",
        "# Authenticate and create the PyDrive client.\n",
        "auth.authenticate_user()\n",
        "\n",
        "# !gupload --to '1W9R77oTk_DAMxfSjKGOLNj5xFtoC7gLF' abstract_intro_conc_ans_part_1.csv\n",
        "# !gupload --to '1W9R77oTk_DAMxfSjKGOLNj5xFtoC7gLF' abstract_intro_conc_ans_part_2.csv\n",
        "!gupload --to '1W9R77oTk_DAMxfSjKGOLNj5xFtoC7gLF' abstract_intro_conc_ans_part_3.csv"
      ],
      "execution_count": null,
      "outputs": []
    },
    {
      "cell_type": "code",
      "metadata": {
        "colab": {
          "base_uri": "https://localhost:8080/",
          "height": 120
        },
        "id": "iqtg4218cdRW",
        "outputId": "fbc5e97f-1511-4478-864e-281cc84af941"
      },
      "source": [
        "abstract.iloc[4465]['abstract']"
      ],
      "execution_count": null,
      "outputs": [
        {
          "output_type": "execute_result",
          "data": {
            "application/vnd.google.colaboratory.intrinsic+json": {
              "type": "string"
            },
            "text/plain": [
              "'The article analyzes the possibilities of commercialization of scientific research results of the human genome and its positive impact on research activities, provided that the information is properly protected. As shown by the legal regulation of scientific research of the human genome in certain states, the secret of private life (privacy) is the main content of the contract practiced in the field of medical services. Genetic information, although similar to medical secrecy when entering into a contract for the provision of medical services, differs in a public element in connection with the use of digital technologies in scientific research. The requirement to protect genome privacy is a mutual obligation of the parties in the contract. This parties do not always give proper attention to such issue. Legal regulation of genomic research will help to formulate a pragmatic attitude to the problem and find a balance between the risk and benefits of human knowledge.'"
            ]
          },
          "metadata": {
            "tags": []
          },
          "execution_count": 58
        }
      ]
    },
    {
      "cell_type": "code",
      "metadata": {
        "id": "a7aEFtndcpU2"
      },
      "source": [
        ""
      ],
      "execution_count": null,
      "outputs": []
    },
    {
      "cell_type": "code",
      "metadata": {
        "id": "kFohz1qbG4NN"
      },
      "source": [
        "# Subsetting the dataset\n",
        "import math\n",
        "chunkSize = 10\n",
        "numberChunks = math.ceil(len(abstract) / chunkSize)\n",
        "section = range(15000,20000,1)\n",
        "summary = []\n",
        "for i in section:\n",
        "    print(i)\n",
        "    abstract_chunk_summary = summarizer(abstract.iloc[i*chunkSize:(i+1)*chunkSize]['abstract'].to_list(), truncation = True)\n",
        "    summary.extend(abstract_chunk_summary)"
      ],
      "execution_count": null,
      "outputs": []
    },
    {
      "cell_type": "code",
      "metadata": {
        "id": "plsPu0PT7I3z"
      },
      "source": [
        "from google.colab import files\n",
        "\n",
        "section = range(50000,100000,1)\n",
        "abstract_sub = abstract.iloc[section,:]\n",
        "summaries = [x['summary_text'] for x in summary]\n",
        "\n",
        "abstract_sub['summary'] = summaries\n",
        "\n",
        "abstract_sub.to_csv('subset.csv')\n",
        "files.download('subset.csv')"
      ],
      "execution_count": null,
      "outputs": []
    },
    {
      "cell_type": "markdown",
      "metadata": {
        "id": "4dSQJDUL-65T"
      },
      "source": [
        ""
      ]
    },
    {
      "cell_type": "code",
      "metadata": {
        "id": "BhuvxUQcfvJV"
      },
      "source": [
        "import torch, gc\n",
        "if 'summarizer' in globals():\n",
        "  del summarizer\n",
        "gc.collect()\n",
        "torch.cuda.empty_cache()"
      ],
      "execution_count": null,
      "outputs": []
    },
    {
      "cell_type": "markdown",
      "metadata": {
        "id": "qQvjT8hn_kM_"
      },
      "source": [
        "# Synthetic QA Generation\n",
        "\n",
        "- Use summarized abstract as answers and use original abstract as context documents to generate a question."
      ]
    },
    {
      "cell_type": "code",
      "metadata": {
        "id": "IkeHWVPcdJet"
      },
      "source": [
        "# !wget https://raw.githubusercontent.com/AMontgomerie/question_generator/master/questiongenerator.py questiongenerator.py \n",
        "# !wget https://raw.githubusercontent.com/AMontgomerie/question_generator/master/setup.py setup.py\n",
        "# !wget https://raw.githubusercontent.com/AMontgomerie/question_generator/master/run_qg.py run_qg.py\n",
        "# !wget https://raw.githubusercontent.com/AMontgomerie/question_generator/master/requirements.txt requirements.txt\n",
        "\n",
        "\n"
      ],
      "execution_count": null,
      "outputs": []
    },
    {
      "cell_type": "code",
      "metadata": {
        "colab": {
          "base_uri": "https://localhost:8080/"
        },
        "id": "ddbafVClP5Cu",
        "outputId": "ad06df56-b282-4370-89c4-fbe755dc14fd"
      },
      "source": [
        "!wget --load-cookies /tmp/cookies.txt \"https://docs.google.com/uc?export=download&confirm=$(wget --quiet --save-cookies /tmp/cookies.txt --keep-session-cookies --no-check-certificate 'https://docs.google.com/uc?export=download&id=1QpNCgwatG8JNFQLoVm3ClMYo9NvEUoHe' -O- | sed -rn 's/.*confirm=([0-9A-Za-z_]+).*/\\1\\n/p')&id=1QpNCgwatG8JNFQLoVm3ClMYo9NvEUoHe\" -O abstract_intro_conc_ans_part_1.csv && rm -rf /tmp/cookies.txt \n",
        "!wget --load-cookies /tmp/cookies.txt \"https://docs.google.com/uc?export=download&confirm=$(wget --quiet --save-cookies /tmp/cookies.txt --keep-session-cookies --no-check-certificate 'https://docs.google.com/uc?export=download&id=1cBWOPOUsMv6cFTTqu4R8dHBGcbFG_N_v' -O- | sed -rn 's/.*confirm=([0-9A-Za-z_]+).*/\\1\\n/p')&id=1cBWOPOUsMv6cFTTqu4R8dHBGcbFG_N_v\" -O abstract_intro_conc_ans_part_2.csv && rm -rf /tmp/cookies.txt "
      ],
      "execution_count": null,
      "outputs": [
        {
          "output_type": "stream",
          "text": [
            "--2021-08-05 04:45:06--  https://docs.google.com/uc?export=download&confirm=rvfZ&id=1QpNCgwatG8JNFQLoVm3ClMYo9NvEUoHe\n",
            "Resolving docs.google.com (docs.google.com)... 64.233.166.102, 64.233.166.101, 64.233.166.139, ...\n",
            "Connecting to docs.google.com (docs.google.com)|64.233.166.102|:443... connected.\n",
            "HTTP request sent, awaiting response... 302 Moved Temporarily\n",
            "Location: https://doc-08-80-docs.googleusercontent.com/docs/securesc/jpf6o1grpoi4sun1k6tl37mkqubkd3n0/osqgiau2v9bsb2hu2ue4p41oovinot1j/1628138700000/03976892977300334194/05960212144191834893Z/1QpNCgwatG8JNFQLoVm3ClMYo9NvEUoHe?e=download [following]\n",
            "--2021-08-05 04:45:06--  https://doc-08-80-docs.googleusercontent.com/docs/securesc/jpf6o1grpoi4sun1k6tl37mkqubkd3n0/osqgiau2v9bsb2hu2ue4p41oovinot1j/1628138700000/03976892977300334194/05960212144191834893Z/1QpNCgwatG8JNFQLoVm3ClMYo9NvEUoHe?e=download\n",
            "Resolving doc-08-80-docs.googleusercontent.com (doc-08-80-docs.googleusercontent.com)... 142.250.13.132, 2a00:1450:400c:c03::84\n",
            "Connecting to doc-08-80-docs.googleusercontent.com (doc-08-80-docs.googleusercontent.com)|142.250.13.132|:443... connected.\n",
            "HTTP request sent, awaiting response... 302 Found\n",
            "Location: https://docs.google.com/nonceSigner?nonce=eme5dh8bd8c5e&continue=https://doc-08-80-docs.googleusercontent.com/docs/securesc/jpf6o1grpoi4sun1k6tl37mkqubkd3n0/osqgiau2v9bsb2hu2ue4p41oovinot1j/1628138700000/03976892977300334194/05960212144191834893Z/1QpNCgwatG8JNFQLoVm3ClMYo9NvEUoHe?e%3Ddownload&hash=g9f3p5q1jtea543d8ntu9shbk6uu45ck [following]\n",
            "--2021-08-05 04:45:06--  https://docs.google.com/nonceSigner?nonce=eme5dh8bd8c5e&continue=https://doc-08-80-docs.googleusercontent.com/docs/securesc/jpf6o1grpoi4sun1k6tl37mkqubkd3n0/osqgiau2v9bsb2hu2ue4p41oovinot1j/1628138700000/03976892977300334194/05960212144191834893Z/1QpNCgwatG8JNFQLoVm3ClMYo9NvEUoHe?e%3Ddownload&hash=g9f3p5q1jtea543d8ntu9shbk6uu45ck\n",
            "Connecting to docs.google.com (docs.google.com)|64.233.166.102|:443... connected.\n",
            "HTTP request sent, awaiting response... 302 Found\n",
            "Location: https://doc-08-80-docs.googleusercontent.com/docs/securesc/jpf6o1grpoi4sun1k6tl37mkqubkd3n0/osqgiau2v9bsb2hu2ue4p41oovinot1j/1628138700000/03976892977300334194/05960212144191834893Z/1QpNCgwatG8JNFQLoVm3ClMYo9NvEUoHe?e=download&nonce=eme5dh8bd8c5e&user=05960212144191834893Z&hash=cdgjr57urg2goc9p2vorrinmirnp1nj7 [following]\n",
            "--2021-08-05 04:45:07--  https://doc-08-80-docs.googleusercontent.com/docs/securesc/jpf6o1grpoi4sun1k6tl37mkqubkd3n0/osqgiau2v9bsb2hu2ue4p41oovinot1j/1628138700000/03976892977300334194/05960212144191834893Z/1QpNCgwatG8JNFQLoVm3ClMYo9NvEUoHe?e=download&nonce=eme5dh8bd8c5e&user=05960212144191834893Z&hash=cdgjr57urg2goc9p2vorrinmirnp1nj7\n",
            "Connecting to doc-08-80-docs.googleusercontent.com (doc-08-80-docs.googleusercontent.com)|142.250.13.132|:443... connected.\n",
            "HTTP request sent, awaiting response... 200 OK\n",
            "Length: unspecified [text/csv]\n",
            "Saving to: ‘abstract_intro_conc_ans_part_1.csv’\n",
            "\n",
            "abstract_intro_conc     [          <=>       ] 238.30M  99.7MB/s    in 2.4s    \n",
            "\n",
            "2021-08-05 04:45:09 (99.7 MB/s) - ‘abstract_intro_conc_ans_part_1.csv’ saved [249871562]\n",
            "\n",
            "--2021-08-05 04:45:17--  https://docs.google.com/uc?export=download&confirm=&id=1cBWOPOUsMv6cFTTqu4R8dHBGcbFG_N_v\n",
            "Resolving docs.google.com (docs.google.com)... 64.233.166.100, 64.233.166.101, 64.233.166.139, ...\n",
            "Connecting to docs.google.com (docs.google.com)|64.233.166.100|:443... connected.\n",
            "HTTP request sent, awaiting response... 302 Moved Temporarily\n",
            "Location: https://doc-0o-00-docs.googleusercontent.com/docs/securesc/3bv7v74cmksggtvci6svv11epd813nt6/crd3uusgak4itsmkea7caee023n1sv6i/1628138700000/03976892977300334194/09332016526085603644Z/1cBWOPOUsMv6cFTTqu4R8dHBGcbFG_N_v?e=download [following]\n",
            "--2021-08-05 04:45:17--  https://doc-0o-00-docs.googleusercontent.com/docs/securesc/3bv7v74cmksggtvci6svv11epd813nt6/crd3uusgak4itsmkea7caee023n1sv6i/1628138700000/03976892977300334194/09332016526085603644Z/1cBWOPOUsMv6cFTTqu4R8dHBGcbFG_N_v?e=download\n",
            "Resolving doc-0o-00-docs.googleusercontent.com (doc-0o-00-docs.googleusercontent.com)... 142.250.13.132, 2a00:1450:400c:c03::84\n",
            "Connecting to doc-0o-00-docs.googleusercontent.com (doc-0o-00-docs.googleusercontent.com)|142.250.13.132|:443... connected.\n",
            "HTTP request sent, awaiting response... 302 Found\n",
            "Location: https://docs.google.com/nonceSigner?nonce=r3s5ejpj2mdog&continue=https://doc-0o-00-docs.googleusercontent.com/docs/securesc/3bv7v74cmksggtvci6svv11epd813nt6/crd3uusgak4itsmkea7caee023n1sv6i/1628138700000/03976892977300334194/09332016526085603644Z/1cBWOPOUsMv6cFTTqu4R8dHBGcbFG_N_v?e%3Ddownload&hash=iqcrmu0c0sqvma2uefgfl79il2jc0moa [following]\n",
            "--2021-08-05 04:45:18--  https://docs.google.com/nonceSigner?nonce=r3s5ejpj2mdog&continue=https://doc-0o-00-docs.googleusercontent.com/docs/securesc/3bv7v74cmksggtvci6svv11epd813nt6/crd3uusgak4itsmkea7caee023n1sv6i/1628138700000/03976892977300334194/09332016526085603644Z/1cBWOPOUsMv6cFTTqu4R8dHBGcbFG_N_v?e%3Ddownload&hash=iqcrmu0c0sqvma2uefgfl79il2jc0moa\n",
            "Connecting to docs.google.com (docs.google.com)|64.233.166.100|:443... connected.\n",
            "HTTP request sent, awaiting response... 302 Found\n",
            "Location: https://doc-0o-00-docs.googleusercontent.com/docs/securesc/3bv7v74cmksggtvci6svv11epd813nt6/crd3uusgak4itsmkea7caee023n1sv6i/1628138700000/03976892977300334194/09332016526085603644Z/1cBWOPOUsMv6cFTTqu4R8dHBGcbFG_N_v?e=download&nonce=r3s5ejpj2mdog&user=09332016526085603644Z&hash=4gvk9vijanq90bb6gcjahikje3napnak [following]\n",
            "--2021-08-05 04:45:18--  https://doc-0o-00-docs.googleusercontent.com/docs/securesc/3bv7v74cmksggtvci6svv11epd813nt6/crd3uusgak4itsmkea7caee023n1sv6i/1628138700000/03976892977300334194/09332016526085603644Z/1cBWOPOUsMv6cFTTqu4R8dHBGcbFG_N_v?e=download&nonce=r3s5ejpj2mdog&user=09332016526085603644Z&hash=4gvk9vijanq90bb6gcjahikje3napnak\n",
            "Connecting to doc-0o-00-docs.googleusercontent.com (doc-0o-00-docs.googleusercontent.com)|142.250.13.132|:443... connected.\n",
            "HTTP request sent, awaiting response... 200 OK\n",
            "Length: unspecified [text/csv]\n",
            "Saving to: ‘abstract_intro_conc_ans_part_2.csv’\n",
            "\n",
            "abstract_intro_conc     [   <=>              ]  89.70M   176MB/s    in 0.5s    \n",
            "\n",
            "2021-08-05 04:45:19 (176 MB/s) - ‘abstract_intro_conc_ans_part_2.csv’ saved [94054440]\n",
            "\n"
          ],
          "name": "stdout"
        }
      ]
    },
    {
      "cell_type": "code",
      "metadata": {
        "colab": {
          "base_uri": "https://localhost:8080/",
          "height": 306
        },
        "id": "cRxpv0d0QHbA",
        "outputId": "75dd3b6e-17ce-4560-cf1d-39572f0d9a71"
      },
      "source": [
        "import pandas as pd\n",
        "abstract_intro_conc_ans_part_1 = pd.read_csv('abstract_intro_conc_ans_part_1.csv')\n",
        "abstract_intro_conc_ans_part_2 = pd.read_csv('abstract_intro_conc_ans_part_2.csv')\n",
        "abstract_intro_conc_ans_part_1.head()"
      ],
      "execution_count": null,
      "outputs": [
        {
          "output_type": "execute_result",
          "data": {
            "text/html": [
              "<div>\n",
              "<style scoped>\n",
              "    .dataframe tbody tr th:only-of-type {\n",
              "        vertical-align: middle;\n",
              "    }\n",
              "\n",
              "    .dataframe tbody tr th {\n",
              "        vertical-align: top;\n",
              "    }\n",
              "\n",
              "    .dataframe thead th {\n",
              "        text-align: right;\n",
              "    }\n",
              "</style>\n",
              "<table border=\"1\" class=\"dataframe\">\n",
              "  <thead>\n",
              "    <tr style=\"text-align: right;\">\n",
              "      <th></th>\n",
              "      <th>Unnamed: 0</th>\n",
              "      <th>cord_uid</th>\n",
              "      <th>title</th>\n",
              "      <th>abstract</th>\n",
              "      <th>introduction</th>\n",
              "      <th>conclusion</th>\n",
              "      <th>answer</th>\n",
              "    </tr>\n",
              "  </thead>\n",
              "  <tbody>\n",
              "    <tr>\n",
              "      <th>0</th>\n",
              "      <td>0</td>\n",
              "      <td>ug7v899j</td>\n",
              "      <td>Clinical features of culture-proven Mycoplasma...</td>\n",
              "      <td>OBJECTIVE: This retrospective chart review des...</td>\n",
              "      <td>Mycoplasma pneumoniae is a common cause of upp...</td>\n",
              "      <td>Mycoplasma pneumoniae is one of the most commo...</td>\n",
              "      <td>Mycoplasma pneumoniae infections at King Abdul...</td>\n",
              "    </tr>\n",
              "    <tr>\n",
              "      <th>1</th>\n",
              "      <td>2</td>\n",
              "      <td>ejv2xln0</td>\n",
              "      <td>Surfactant protein-D and pulmonary host defense</td>\n",
              "      <td>Surfactant protein-D (SP-D) participates in th...</td>\n",
              "      <td>Surfactant protein-D (SP-D) is a member of the...</td>\n",
              "      <td>There is increasing evidence that SP-D interac...</td>\n",
              "      <td>Surfactant Protein-D participates in the innat...</td>\n",
              "    </tr>\n",
              "    <tr>\n",
              "      <th>2</th>\n",
              "      <td>4</td>\n",
              "      <td>9785vg6d</td>\n",
              "      <td>Gene expression in epithelial cells in respons...</td>\n",
              "      <td>Respiratory syncytial virus (RSV) and pneumoni...</td>\n",
              "      <td>RSV and PVM are viruses of the family Paramyxo...</td>\n",
              "      <td>The pneumoviruses RSV and PVM enter respirator...</td>\n",
              "      <td>Respiratory syncytial virus and pneumonia viru...</td>\n",
              "    </tr>\n",
              "    <tr>\n",
              "      <th>3</th>\n",
              "      <td>5</td>\n",
              "      <td>zjufx4fo</td>\n",
              "      <td>Sequence requirements for RNA strand transfer ...</td>\n",
              "      <td>Nidovirus subgenomic mRNAs contain a leader se...</td>\n",
              "      <td>The genetic information of RNA viruses is orga...</td>\n",
              "      <td>EAV genome replication is not signi®cantly aff...</td>\n",
              "      <td>Co-variation mutagenesis of equine arteritis v...</td>\n",
              "    </tr>\n",
              "    <tr>\n",
              "      <th>4</th>\n",
              "      <td>6</td>\n",
              "      <td>5yhe786e</td>\n",
              "      <td>Debate: Transfusing to normal haemoglobin leve...</td>\n",
              "      <td>Recent evidence suggests that critically ill p...</td>\n",
              "      <td>Anaemia is a common condition in critically il...</td>\n",
              "      <td>The need to reduce the amount of allogeneic bl...</td>\n",
              "      <td>A Restrictive Blood transfusion Strategy for C...</td>\n",
              "    </tr>\n",
              "  </tbody>\n",
              "</table>\n",
              "</div>"
            ],
            "text/plain": [
              "   Unnamed: 0  ...                                             answer\n",
              "0           0  ...  Mycoplasma pneumoniae infections at King Abdul...\n",
              "1           2  ...  Surfactant Protein-D participates in the innat...\n",
              "2           4  ...  Respiratory syncytial virus and pneumonia viru...\n",
              "3           5  ...  Co-variation mutagenesis of equine arteritis v...\n",
              "4           6  ...  A Restrictive Blood transfusion Strategy for C...\n",
              "\n",
              "[5 rows x 7 columns]"
            ]
          },
          "metadata": {
            "tags": []
          },
          "execution_count": 1
        }
      ]
    },
    {
      "cell_type": "markdown",
      "metadata": {
        "id": "r3apzRdQHfVs"
      },
      "source": [
        "##### Create class for generating QA"
      ]
    },
    {
      "cell_type": "code",
      "metadata": {
        "id": "4dnQcWXYdKmU",
        "colab": {
          "base_uri": "https://localhost:8080/"
        },
        "outputId": "483234a6-4c0e-40c9-a093-afd9b7663cf3"
      },
      "source": [
        "!pip install sentencepiece\n",
        "!pip install transformers\n",
        "import os\n",
        "import sys\n",
        "import math\n",
        "import numpy as np\n",
        "import torch\n",
        "import spacy\n",
        "import re\n",
        "import random\n",
        "import json\n",
        "import en_core_web_sm\n",
        "from transformers import (\n",
        "    AutoTokenizer,\n",
        "    AutoModelForSeq2SeqLM,\n",
        "    AutoModelForSequenceClassification,\n",
        ")\n",
        "import sentencepiece\n",
        "\n",
        "\n",
        "class QuestionGenerator:\n",
        "    def __init__(self, model_dir=None):\n",
        "\n",
        "        QG_PRETRAINED = \"iarfmoose/t5-base-question-generator\"\n",
        "        self.ANSWER_TOKEN = \"<answer>\"\n",
        "        self.CONTEXT_TOKEN = \"<context>\"\n",
        "        self.SEQ_LENGTH = 1024\n",
        "\n",
        "        self.device = torch.device(\n",
        "            \"cuda\" if torch.cuda.is_available() else \"cpu\")\n",
        "\n",
        "        self.qg_tokenizer = AutoTokenizer.from_pretrained(\n",
        "            QG_PRETRAINED)\n",
        "        self.qg_model = AutoModelForSeq2SeqLM.from_pretrained(QG_PRETRAINED)\n",
        "        self.qg_model.to(self.device)\n",
        "\n",
        "    def generate(\n",
        "        self, article, answer\n",
        "    ):\n",
        "\n",
        "        qg_input = \"{} {} {} {}\".format(\n",
        "            self.ANSWER_TOKEN, answer, self.CONTEXT_TOKEN, article\n",
        "        )\n",
        "\n",
        "        generated_question = self._generate_question(qg_input)\n",
        "\n",
        "        qa = self._make_dict(\n",
        "            generated_question, answer\n",
        "        )\n",
        "\n",
        "        return qa\n",
        "\n",
        "    def _generate_question(self, qg_input):\n",
        "        self.qg_model.eval()\n",
        "        encoded_input = self._encode_qg_input(qg_input)\n",
        "        with torch.no_grad():\n",
        "            output = self.qg_model.generate(\n",
        "                input_ids=encoded_input[\"input_ids\"])\n",
        "        question = self.qg_tokenizer.decode(\n",
        "            output[0], skip_special_tokens=True)\n",
        "        return question\n",
        "\n",
        "    def _encode_qg_input(self, qg_input):\n",
        "        return self.qg_tokenizer(\n",
        "            qg_input,\n",
        "            padding='max_length',\n",
        "            max_length=self.SEQ_LENGTH,\n",
        "            truncation=True,\n",
        "            return_tensors=\"pt\",\n",
        "        ).to(self.device)\n",
        "\n",
        "    def _make_dict(self, question, answer):\n",
        "        qa = {}\n",
        "        qa[\"question\"] = question\n",
        "        qa[\"answer\"] = answer\n",
        "        return qa\n",
        "\n",
        "\n",
        "def print_qa(qa_list, show_answers=True):\n",
        "    for i in range(len(qa_list)):\n",
        "        # wider space for 2 digit q nums\n",
        "        space = \" \" * int(np.where(i < 9, 3, 4))\n",
        "\n",
        "        print(\"{}) Q: {}\".format(i + 1, qa_list[i][\"question\"]))\n",
        "\n",
        "        answer = qa_list[i][\"answer\"]\n",
        "\n",
        "        # print a list of multiple choice answers\n",
        "        if type(answer) is list:\n",
        "\n",
        "            if show_answers:\n",
        "                print(\n",
        "                    \"{}A: 1.\".format(space),\n",
        "                    answer[0][\"answer\"],\n",
        "                    np.where(answer[0][\"correct\"], \"(correct)\", \"\"),\n",
        "                )\n",
        "                for j in range(1, len(answer)):\n",
        "                    print(\n",
        "                        \"{}{}.\".format(space + \"   \", j + 1),\n",
        "                        answer[j][\"answer\"],\n",
        "                        np.where(answer[j][\"correct\"] ==\n",
        "                                 True, \"(correct)\", \"\"),\n",
        "                    )\n",
        "\n",
        "            else:\n",
        "                print(\"{}A: 1.\".format(space), answer[0][\"answer\"])\n",
        "                for j in range(1, len(answer)):\n",
        "                    print(\"{}{}.\".format(space + \"   \", j + 1),\n",
        "                          answer[j][\"answer\"])\n",
        "            print(\"\")\n",
        "\n",
        "        # print full sentence answers\n",
        "        else:\n",
        "            if show_answers:\n",
        "                print(\"{}A:\".format(space), answer, \"\\n\")\n"
      ],
      "execution_count": null,
      "outputs": [
        {
          "output_type": "stream",
          "text": [
            "Requirement already satisfied: sentencepiece in /usr/local/lib/python3.7/dist-packages (0.1.96)\n",
            "Requirement already satisfied: transformers in /usr/local/lib/python3.7/dist-packages (4.9.1)\n",
            "Requirement already satisfied: regex!=2019.12.17 in /usr/local/lib/python3.7/dist-packages (from transformers) (2019.12.20)\n",
            "Requirement already satisfied: tokenizers<0.11,>=0.10.1 in /usr/local/lib/python3.7/dist-packages (from transformers) (0.10.3)\n",
            "Requirement already satisfied: packaging in /usr/local/lib/python3.7/dist-packages (from transformers) (21.0)\n",
            "Requirement already satisfied: pyyaml>=5.1 in /usr/local/lib/python3.7/dist-packages (from transformers) (5.4.1)\n",
            "Requirement already satisfied: huggingface-hub==0.0.12 in /usr/local/lib/python3.7/dist-packages (from transformers) (0.0.12)\n",
            "Requirement already satisfied: importlib-metadata in /usr/local/lib/python3.7/dist-packages (from transformers) (4.6.1)\n",
            "Requirement already satisfied: filelock in /usr/local/lib/python3.7/dist-packages (from transformers) (3.0.12)\n",
            "Requirement already satisfied: sacremoses in /usr/local/lib/python3.7/dist-packages (from transformers) (0.0.45)\n",
            "Requirement already satisfied: requests in /usr/local/lib/python3.7/dist-packages (from transformers) (2.23.0)\n",
            "Requirement already satisfied: tqdm>=4.27 in /usr/local/lib/python3.7/dist-packages (from transformers) (4.41.1)\n",
            "Requirement already satisfied: numpy>=1.17 in /usr/local/lib/python3.7/dist-packages (from transformers) (1.19.5)\n",
            "Requirement already satisfied: typing-extensions in /usr/local/lib/python3.7/dist-packages (from huggingface-hub==0.0.12->transformers) (3.7.4.3)\n",
            "Requirement already satisfied: pyparsing>=2.0.2 in /usr/local/lib/python3.7/dist-packages (from packaging->transformers) (2.4.7)\n",
            "Requirement already satisfied: zipp>=0.5 in /usr/local/lib/python3.7/dist-packages (from importlib-metadata->transformers) (3.5.0)\n",
            "Requirement already satisfied: urllib3!=1.25.0,!=1.25.1,<1.26,>=1.21.1 in /usr/local/lib/python3.7/dist-packages (from requests->transformers) (1.24.3)\n",
            "Requirement already satisfied: chardet<4,>=3.0.2 in /usr/local/lib/python3.7/dist-packages (from requests->transformers) (3.0.4)\n",
            "Requirement already satisfied: certifi>=2017.4.17 in /usr/local/lib/python3.7/dist-packages (from requests->transformers) (2021.5.30)\n",
            "Requirement already satisfied: idna<3,>=2.5 in /usr/local/lib/python3.7/dist-packages (from requests->transformers) (2.10)\n",
            "Requirement already satisfied: joblib in /usr/local/lib/python3.7/dist-packages (from sacremoses->transformers) (1.0.1)\n",
            "Requirement already satisfied: click in /usr/local/lib/python3.7/dist-packages (from sacremoses->transformers) (7.1.2)\n",
            "Requirement already satisfied: six in /usr/local/lib/python3.7/dist-packages (from sacremoses->transformers) (1.15.0)\n"
          ],
          "name": "stdout"
        }
      ]
    },
    {
      "cell_type": "markdown",
      "metadata": {
        "id": "0mAfhEbPHqgN"
      },
      "source": [
        "##### Generate QA"
      ]
    },
    {
      "cell_type": "code",
      "metadata": {
        "colab": {
          "base_uri": "https://localhost:8080/"
        },
        "id": "D2zvz5RbPM-T",
        "outputId": "2df2785d-376f-448d-dd40-9aeec6c9794c"
      },
      "source": [
        "!pip install tdqm\n",
        "from tqdm import tqdm"
      ],
      "execution_count": null,
      "outputs": [
        {
          "output_type": "stream",
          "text": [
            "Collecting tdqm\n",
            "  Downloading tdqm-0.0.1.tar.gz (1.4 kB)\n",
            "Requirement already satisfied: tqdm in /usr/local/lib/python3.7/dist-packages (from tdqm) (4.41.1)\n",
            "Building wheels for collected packages: tdqm\n",
            "  Building wheel for tdqm (setup.py) ... \u001b[?25l\u001b[?25hdone\n",
            "  Created wheel for tdqm: filename=tdqm-0.0.1-py3-none-any.whl size=1322 sha256=ec6ff718b99ac05b963f52a3a3d79167b769fb2ee9e362fb7b32dc45828ef031\n",
            "  Stored in directory: /root/.cache/pip/wheels/c6/f0/d9/9fa5ff78c0f9d5a0a427bbbb4893c283520ddfccb885ea2205\n",
            "Successfully built tdqm\n",
            "Installing collected packages: tdqm\n",
            "Successfully installed tdqm-0.0.1\n"
          ],
          "name": "stdout"
        }
      ]
    },
    {
      "cell_type": "code",
      "metadata": {
        "colab": {
          "base_uri": "https://localhost:8080/",
          "height": 311,
          "referenced_widgets": [
            "c792da87d5424f1b807e282b33afae2f",
            "813906a209e64c64a2ee4787b54f65b1",
            "1e246bc42c114c4ea79a1ec50eee567d",
            "17272a7c7e264b9bb61f3166a023407c",
            "bad9abbc10c849cba63cb505ca7fae54",
            "eb7d01db53414d4488b90b22c97d094b",
            "afcc92452dbd4b70913e9ffb1efa5f24",
            "f312125a57244db5b5f47c879db53467",
            "3352f1c4194540aca5ccc384faf89362",
            "3b098e8181a7433090b79214c36b0898",
            "5766071eb6154f6e93ed1fc61b175a31",
            "f8d87f34298c4e119578cbbc7696b564",
            "703a73017825456e88ca0671aa2e2d8b",
            "b33c2abbaab242479282c2cd904d59f6",
            "f39a0fd3f7b64a598e6a3bba400df21c",
            "ab4e0d2551c548c2b2d5ed2506f4f1c6",
            "00ee5aa85add4bfab754681511b2a78b",
            "e857c5135aba48f9abab3fa6ea1a0f59",
            "fc17a8b110d842afb56a912169eec6c5",
            "47e3d946dcd940e39abb562ce9f09c4b",
            "eaee53206f6a4fa481b1a596aa3386bd",
            "0b1e89420249421482f70231479bbe7e",
            "ed441805420b4e3ab772f80e9c0cd163",
            "5e771919bf6e497286d19db747de9941",
            "7a4833992cd8466caa4af86759cb2ae0",
            "024df21eb404446290756d66b8fe6fa9",
            "6cb4885e194549189660a49bc24bed71",
            "f02512571c3e419b93c7012841b6da79",
            "74bd2a02198c4cbfb20eeaee8a9739e5",
            "8ea0944258144676a2ef46e512f68700",
            "c3242f89d9ae4f89ae645c1b084bd6bc",
            "9dbfd2dc727f472bae3d52dcee8adb04",
            "00f2959e054a4986a5c5b52f620d7e57",
            "991d8b891378438785c7de1c157e7567",
            "fe52c2048fd343ebad441aeac5622583",
            "c8ae7ecd0dd049879e2d4ddd729259bb",
            "a2332206c4d147ae814a859949d9cda7",
            "29c0b3799e52412ab57d84ad01e5d2ea",
            "ba865f59c5b141c49054421afa8b4740",
            "c9de73af12204b2bb2c00f289583677a",
            "29d7a5f296324672b88c0bc958e994fe",
            "00fa06595b584b90831980d989545fde",
            "e5b6656b5624415ab7448afe83bb4e8a",
            "b04f7dc3dae24dea8b1770dd9ee2c3cb",
            "32fd36283e0843d3a3c5628a271392c4",
            "28ee96306a844cad98d452ec67f5c23a",
            "e952256157f84a61ab6221ed63dd0ce8",
            "36d3c51187ed43cdbe4d586b9dce534f"
          ]
        },
        "id": "wXs_SeqLoxvR",
        "outputId": "da91eed0-41ff-455c-bd1a-db3ad625d0d5"
      },
      "source": [
        "qa_gen = QuestionGenerator()"
      ],
      "execution_count": null,
      "outputs": [
        {
          "output_type": "display_data",
          "data": {
            "application/vnd.jupyter.widget-view+json": {
              "model_id": "c792da87d5424f1b807e282b33afae2f",
              "version_minor": 0,
              "version_major": 2
            },
            "text/plain": [
              "HBox(children=(FloatProgress(value=0.0, description='Downloading', max=25.0, style=ProgressStyle(description_w…"
            ]
          },
          "metadata": {
            "tags": []
          }
        },
        {
          "output_type": "stream",
          "text": [
            "\n"
          ],
          "name": "stdout"
        },
        {
          "output_type": "display_data",
          "data": {
            "application/vnd.jupyter.widget-view+json": {
              "model_id": "3352f1c4194540aca5ccc384faf89362",
              "version_minor": 0,
              "version_major": 2
            },
            "text/plain": [
              "HBox(children=(FloatProgress(value=0.0, description='Downloading', max=1208.0, style=ProgressStyle(description…"
            ]
          },
          "metadata": {
            "tags": []
          }
        },
        {
          "output_type": "stream",
          "text": [
            "\n"
          ],
          "name": "stdout"
        },
        {
          "output_type": "display_data",
          "data": {
            "application/vnd.jupyter.widget-view+json": {
              "model_id": "00ee5aa85add4bfab754681511b2a78b",
              "version_minor": 0,
              "version_major": 2
            },
            "text/plain": [
              "HBox(children=(FloatProgress(value=0.0, description='Downloading', max=791656.0, style=ProgressStyle(descripti…"
            ]
          },
          "metadata": {
            "tags": []
          }
        },
        {
          "output_type": "stream",
          "text": [
            "\n"
          ],
          "name": "stdout"
        },
        {
          "output_type": "display_data",
          "data": {
            "application/vnd.jupyter.widget-view+json": {
              "model_id": "7a4833992cd8466caa4af86759cb2ae0",
              "version_minor": 0,
              "version_major": 2
            },
            "text/plain": [
              "HBox(children=(FloatProgress(value=0.0, description='Downloading', max=39.0, style=ProgressStyle(description_w…"
            ]
          },
          "metadata": {
            "tags": []
          }
        },
        {
          "output_type": "stream",
          "text": [
            "\n"
          ],
          "name": "stdout"
        },
        {
          "output_type": "display_data",
          "data": {
            "application/vnd.jupyter.widget-view+json": {
              "model_id": "00f2959e054a4986a5c5b52f620d7e57",
              "version_minor": 0,
              "version_major": 2
            },
            "text/plain": [
              "HBox(children=(FloatProgress(value=0.0, description='Downloading', max=121.0, style=ProgressStyle(description_…"
            ]
          },
          "metadata": {
            "tags": []
          }
        },
        {
          "output_type": "stream",
          "text": [
            "\n"
          ],
          "name": "stdout"
        },
        {
          "output_type": "display_data",
          "data": {
            "application/vnd.jupyter.widget-view+json": {
              "model_id": "29d7a5f296324672b88c0bc958e994fe",
              "version_minor": 0,
              "version_major": 2
            },
            "text/plain": [
              "HBox(children=(FloatProgress(value=0.0, description='Downloading', max=891612736.0, style=ProgressStyle(descri…"
            ]
          },
          "metadata": {
            "tags": []
          }
        },
        {
          "output_type": "stream",
          "text": [
            "\n"
          ],
          "name": "stdout"
        }
      ]
    },
    {
      "cell_type": "markdown",
      "metadata": {
        "id": "184QS7KsoqGx"
      },
      "source": [
        ""
      ]
    },
    {
      "cell_type": "code",
      "metadata": {
        "id": "SgGlCVHWdKoR"
      },
      "source": [
        "def GenerateSyntheticData(df):\n",
        "    synthetic_data = []\n",
        "    for i, ele in tqdm(df.iterrows(), total = df.shape[0]):\n",
        "        synthetic_data.append(qa_gen.generate(ele['abstract'], ele['answer']))\n",
        "    for i, qa in enumerate(synthetic_data):\n",
        "        synthetic_data[i] = qa['question'][0:qa['question'].find('?') + 1]\n",
        "    return synthetic_data"
      ],
      "execution_count": null,
      "outputs": []
    },
    {
      "cell_type": "code",
      "metadata": {
        "id": "FIwGP-irp_PD"
      },
      "source": [
        "question = GenerateSyntheticData(abstract_intro_conc_ans_part_1)"
      ],
      "execution_count": null,
      "outputs": []
    },
    {
      "cell_type": "code",
      "metadata": {
        "id": "P4KJRZsuxmNn"
      },
      "source": [
        "abstract_intro_conc_ans_part_1['question'] = question\n",
        "abstract_intro_conc_ans_part_1.to_csv('synthetic_qa_part_1.csv')"
      ],
      "execution_count": null,
      "outputs": []
    },
    {
      "cell_type": "code",
      "metadata": {
        "colab": {
          "base_uri": "https://localhost:8080/",
          "height": 606
        },
        "id": "RCQwktdwbooE",
        "outputId": "1ef2bb62-6829-43ac-eebb-c0a79ce6a1fc"
      },
      "source": [
        "abstract_intro_conc_ans_part_1[abstract_intro_conc_ans_part_1['question'] == '']"
      ],
      "execution_count": null,
      "outputs": [
        {
          "output_type": "execute_result",
          "data": {
            "text/html": [
              "<div>\n",
              "<style scoped>\n",
              "    .dataframe tbody tr th:only-of-type {\n",
              "        vertical-align: middle;\n",
              "    }\n",
              "\n",
              "    .dataframe tbody tr th {\n",
              "        vertical-align: top;\n",
              "    }\n",
              "\n",
              "    .dataframe thead th {\n",
              "        text-align: right;\n",
              "    }\n",
              "</style>\n",
              "<table border=\"1\" class=\"dataframe\">\n",
              "  <thead>\n",
              "    <tr style=\"text-align: right;\">\n",
              "      <th></th>\n",
              "      <th>Unnamed: 0</th>\n",
              "      <th>cord_uid</th>\n",
              "      <th>title</th>\n",
              "      <th>abstract</th>\n",
              "      <th>introduction</th>\n",
              "      <th>conclusion</th>\n",
              "      <th>answer</th>\n",
              "      <th>question</th>\n",
              "    </tr>\n",
              "  </thead>\n",
              "  <tbody>\n",
              "    <tr>\n",
              "      <th>3</th>\n",
              "      <td>5</td>\n",
              "      <td>zjufx4fo</td>\n",
              "      <td>Sequence requirements for RNA strand transfer ...</td>\n",
              "      <td>Nidovirus subgenomic mRNAs contain a leader se...</td>\n",
              "      <td>The genetic information of RNA viruses is orga...</td>\n",
              "      <td>EAV genome replication is not signi®cantly aff...</td>\n",
              "      <td>Co-variation mutagenesis of equine arteritis v...</td>\n",
              "      <td></td>\n",
              "    </tr>\n",
              "    <tr>\n",
              "      <th>8</th>\n",
              "      <td>13</td>\n",
              "      <td>mcuixluu</td>\n",
              "      <td>Vaccinia virus infection disrupts microtubule ...</td>\n",
              "      <td>We examined the role of the microtubule cytosk...</td>\n",
              "      <td>Intracellular bacterial and viral pathogens ha...</td>\n",
              "      <td>The size of virus particles is such that they ...</td>\n",
              "      <td>Microtubule cytoskeleton during vaccinia virus...</td>\n",
              "      <td></td>\n",
              "    </tr>\n",
              "    <tr>\n",
              "      <th>17</th>\n",
              "      <td>30</td>\n",
              "      <td>754nln40</td>\n",
              "      <td>Factors affecting translation at the programme...</td>\n",
              "      <td>The ratio between proteins P27 and replicase o...</td>\n",
              "      <td>The principal mechanism of translation is the ...</td>\n",
              "      <td>Since À1 PRF studies are affected by a huge nu...</td>\n",
              "      <td>Fusion of Cocksfoot Mottle Virus Protein P27 w...</td>\n",
              "      <td></td>\n",
              "    </tr>\n",
              "    <tr>\n",
              "      <th>18</th>\n",
              "      <td>37</td>\n",
              "      <td>cl9gpt9w</td>\n",
              "      <td>The influence of locked nucleic acid residues ...</td>\n",
              "      <td>The influence of locked nucleic acid (LNA) res...</td>\n",
              "      <td>Understanding the thermodynamics of nucleic ac...</td>\n",
              "      <td>Oligonucleotide hybridization to RNA has many ...</td>\n",
              "      <td>Stability of 2′-O-methyl RNA/RNA heteroduplexe...</td>\n",
              "      <td></td>\n",
              "    </tr>\n",
              "    <tr>\n",
              "      <th>26</th>\n",
              "      <td>70</td>\n",
              "      <td>xgwbl8em</td>\n",
              "      <td>Antisense-induced ribosomal frameshifting</td>\n",
              "      <td>Programmed ribosomal frameshifting provides a ...</td>\n",
              "      <td>The standard triplet readout of the genetic co...</td>\n",
              "      <td>Several models attempting to explain pseudokno...</td>\n",
              "      <td>Programmed Ribosomal Frameshifting with Antise...</td>\n",
              "      <td></td>\n",
              "    </tr>\n",
              "    <tr>\n",
              "      <th>...</th>\n",
              "      <td>...</td>\n",
              "      <td>...</td>\n",
              "      <td>...</td>\n",
              "      <td>...</td>\n",
              "      <td>...</td>\n",
              "      <td>...</td>\n",
              "      <td>...</td>\n",
              "      <td>...</td>\n",
              "    </tr>\n",
              "    <tr>\n",
              "      <th>23874</th>\n",
              "      <td>355382</td>\n",
              "      <td>y3di1dct</td>\n",
              "      <td>Second quantization approach to COVID-19 epidemic</td>\n",
              "      <td>We show how the standard field theoretical lan...</td>\n",
              "      <td>The year 2020 will be remembered in history as...</td>\n",
              "      <td>We have investigated, using an SIR-type stocha...</td>\n",
              "      <td>SIR-type stochastic model for COVID-19 epidemi...</td>\n",
              "      <td></td>\n",
              "    </tr>\n",
              "    <tr>\n",
              "      <th>23887</th>\n",
              "      <td>356107</td>\n",
              "      <td>wucowgfq</td>\n",
              "      <td>Trend estimation and short-term forecasting of...</td>\n",
              "      <td>Since the beginning of the COVID-19 pandemic, ...</td>\n",
              "      <td>It is of utmost importance for governments and...</td>\n",
              "      <td>Our results show that, for a forecast of the n...</td>\n",
              "      <td>Forecasting the Evolution of Cases and Deaths ...</td>\n",
              "      <td></td>\n",
              "    </tr>\n",
              "    <tr>\n",
              "      <th>23888</th>\n",
              "      <td>356111</td>\n",
              "      <td>5hy7af88</td>\n",
              "      <td>Ribonucleocapsid assembly/packaging signals in...</td>\n",
              "      <td>The genomic ssRNA of coronaviruses is packaged...</td>\n",
              "      <td>To the middle of July 2020, the COVID-19 pande...</td>\n",
              "      <td>The methods developed in this paper are quite ...</td>\n",
              "      <td>Assembly/Packaging Signals of Coronaviruses an...</td>\n",
              "      <td></td>\n",
              "    </tr>\n",
              "    <tr>\n",
              "      <th>23897</th>\n",
              "      <td>356644</td>\n",
              "      <td>vykvl6vg</td>\n",
              "      <td>Application and Comparison of Deep Learning Me...</td>\n",
              "      <td>mRNA vaccines are receiving increased interest...</td>\n",
              "      <td>Over the last two decades, there has been incr...</td>\n",
              "      <td>Although the creation of stable mRNA molecules...</td>\n",
              "      <td>Graph Convolutional Networks for Predicting St...</td>\n",
              "      <td></td>\n",
              "    </tr>\n",
              "    <tr>\n",
              "      <th>23918</th>\n",
              "      <td>357797</td>\n",
              "      <td>kbhfzrl8</td>\n",
              "      <td>Application of the criterion of Li-Wang to a f...</td>\n",
              "      <td>The dynamics of many epidemic models for infec...</td>\n",
              "      <td>A mathematical Covid-19 model is constructed i...</td>\n",
              "      <td>In second paper (Part II), In order to control...</td>\n",
              "      <td>Stability of Five-Dimensional Covid-19 System ...</td>\n",
              "      <td></td>\n",
              "    </tr>\n",
              "  </tbody>\n",
              "</table>\n",
              "<p>1521 rows × 8 columns</p>\n",
              "</div>"
            ],
            "text/plain": [
              "       Unnamed: 0  ... question\n",
              "3               5  ...         \n",
              "8              13  ...         \n",
              "17             30  ...         \n",
              "18             37  ...         \n",
              "26             70  ...         \n",
              "...           ...  ...      ...\n",
              "23874      355382  ...         \n",
              "23887      356107  ...         \n",
              "23888      356111  ...         \n",
              "23897      356644  ...         \n",
              "23918      357797  ...         \n",
              "\n",
              "[1521 rows x 8 columns]"
            ]
          },
          "metadata": {
            "tags": []
          },
          "execution_count": 21
        }
      ]
    },
    {
      "cell_type": "code",
      "metadata": {
        "id": "AuolWMNZZ8Mw"
      },
      "source": [
        "question = GenerateSyntheticData(abstract_intro_conc_ans_part_2)"
      ],
      "execution_count": null,
      "outputs": []
    },
    {
      "cell_type": "code",
      "metadata": {
        "id": "XFIqmsU7ky3S"
      },
      "source": [
        "abstract_intro_conc_ans_part_2['question'] = question\n",
        "abstract_intro_conc_ans_part_2.to_csv('synthetic_qa_part_2.csv')\n",
        "# synthetic_data_df = pd.DataFrame(synthetic_data)\n",
        "\n",
        "# clean_question = []\n",
        "# for i, e in synthetic_data_df.iterrows():\n",
        "#   clean_question.append(e['question'][0:e['question'].find('?') + 1]) \n",
        "\n",
        "# synthetic_data_df['question'] = clean_question\n",
        "\n",
        "# synthetic_data_df['context'] = abstract_intro_conc_ans_part_2['abstract']\n",
        "\n",
        "# synthetic_data_df.to_csv('synthetic_qa_part_2.csv')"
      ],
      "execution_count": null,
      "outputs": []
    },
    {
      "cell_type": "code",
      "metadata": {
        "colab": {
          "base_uri": "https://localhost:8080/",
          "height": 649
        },
        "id": "_oK7m19HTdHk",
        "outputId": "451b5bf4-edbe-4e61-ba13-97bf532254f2"
      },
      "source": [
        "!pip install --upgrade gupload\n",
        "\n",
        "from google.colab import auth\n",
        "\n",
        "# Authenticate and create the PyDrive client.\n",
        "auth.authenticate_user()\n",
        "\n",
        "!gupload --to '1W9R77oTk_DAMxfSjKGOLNj5xFtoC7gLF' synthetic_qa_part_1.csv\n",
        "# !gupload --to '1W9R77oTk_DAMxfSjKGOLNj5xFtoC7gLF' synthetic_qa_part_2.csv"
      ],
      "execution_count": null,
      "outputs": [
        {
          "output_type": "stream",
          "text": [
            "Collecting gupload\n",
            "  Downloading gupload-1.1.0-py3-none-any.whl (4.7 kB)\n",
            "Collecting click==7.0\n",
            "  Downloading Click-7.0-py2.py3-none-any.whl (81 kB)\n",
            "\u001b[K     |████████████████████████████████| 81 kB 5.7 MB/s \n",
            "\u001b[?25hCollecting google-api-python-client==1.7.10\n",
            "  Downloading google_api_python_client-1.7.10-py3-none-any.whl (56 kB)\n",
            "\u001b[K     |████████████████████████████████| 56 kB 4.1 MB/s \n",
            "\u001b[?25hRequirement already satisfied: uritemplate<4dev,>=3.0.0 in /usr/local/lib/python3.7/dist-packages (from google-api-python-client==1.7.10->gupload) (3.0.1)\n",
            "Requirement already satisfied: google-auth>=1.4.1 in /usr/local/lib/python3.7/dist-packages (from google-api-python-client==1.7.10->gupload) (1.32.1)\n",
            "Requirement already satisfied: httplib2<1dev,>=0.9.2 in /usr/local/lib/python3.7/dist-packages (from google-api-python-client==1.7.10->gupload) (0.17.4)\n",
            "Requirement already satisfied: google-auth-httplib2>=0.0.3 in /usr/local/lib/python3.7/dist-packages (from google-api-python-client==1.7.10->gupload) (0.0.4)\n",
            "Requirement already satisfied: six<2dev,>=1.6.1 in /usr/local/lib/python3.7/dist-packages (from google-api-python-client==1.7.10->gupload) (1.15.0)\n",
            "Requirement already satisfied: rsa<5,>=3.1.4 in /usr/local/lib/python3.7/dist-packages (from google-auth>=1.4.1->google-api-python-client==1.7.10->gupload) (4.7.2)\n",
            "Requirement already satisfied: setuptools>=40.3.0 in /usr/local/lib/python3.7/dist-packages (from google-auth>=1.4.1->google-api-python-client==1.7.10->gupload) (57.2.0)\n",
            "Requirement already satisfied: pyasn1-modules>=0.2.1 in /usr/local/lib/python3.7/dist-packages (from google-auth>=1.4.1->google-api-python-client==1.7.10->gupload) (0.2.8)\n",
            "Requirement already satisfied: cachetools<5.0,>=2.0.0 in /usr/local/lib/python3.7/dist-packages (from google-auth>=1.4.1->google-api-python-client==1.7.10->gupload) (4.2.2)\n",
            "Requirement already satisfied: pyasn1<0.5.0,>=0.4.6 in /usr/local/lib/python3.7/dist-packages (from pyasn1-modules>=0.2.1->google-auth>=1.4.1->google-api-python-client==1.7.10->gupload) (0.4.8)\n",
            "Installing collected packages: google-api-python-client, click, gupload\n",
            "  Attempting uninstall: google-api-python-client\n",
            "    Found existing installation: google-api-python-client 1.12.8\n",
            "    Uninstalling google-api-python-client-1.12.8:\n",
            "      Successfully uninstalled google-api-python-client-1.12.8\n",
            "  Attempting uninstall: click\n",
            "    Found existing installation: click 7.1.2\n",
            "    Uninstalling click-7.1.2:\n",
            "      Successfully uninstalled click-7.1.2\n",
            "\u001b[31mERROR: pip's dependency resolver does not currently take into account all the packages that are installed. This behaviour is the source of the following dependency conflicts.\n",
            "earthengine-api 0.1.272 requires google-api-python-client<2,>=1.12.1, but you have google-api-python-client 1.7.10 which is incompatible.\u001b[0m\n",
            "Successfully installed click-7.0 google-api-python-client-1.7.10 gupload-1.1.0\n"
          ],
          "name": "stdout"
        },
        {
          "output_type": "display_data",
          "data": {
            "application/vnd.colab-display-data+json": {
              "pip_warning": {
                "packages": [
                  "googleapiclient"
                ]
              }
            }
          },
          "metadata": {
            "tags": []
          }
        },
        {
          "output_type": "stream",
          "text": [
            "Uploading file: synthetic_qa_part_1.csv\n"
          ],
          "name": "stdout"
        }
      ]
    },
    {
      "cell_type": "markdown",
      "metadata": {
        "id": "FhsQlXc_zhoc"
      },
      "source": [
        "# Using rag-end2end-retriever (Shamane's)"
      ]
    },
    {
      "cell_type": "code",
      "metadata": {
        "colab": {
          "base_uri": "https://localhost:8080/"
        },
        "id": "v2qCT_MexsDM",
        "outputId": "b767129e-dbb5-44f2-e7d7-ddfc338a5ea7"
      },
      "source": [
        "!git clone https://github.com/Zefty/rag-end2end-retriever.git"
      ],
      "execution_count": null,
      "outputs": [
        {
          "output_type": "stream",
          "text": [
            "Cloning into 'rag-end2end-retriever'...\n",
            "remote: Enumerating objects: 28, done.\u001b[K\n",
            "remote: Counting objects: 100% (28/28), done.\u001b[K\n",
            "remote: Compressing objects: 100% (21/21), done.\u001b[K\n",
            "remote: Total 28 (delta 7), reused 28 (delta 7), pack-reused 0\u001b[K\n",
            "Unpacking objects: 100% (28/28), done.\n"
          ],
          "name": "stdout"
        }
      ]
    },
    {
      "cell_type": "code",
      "metadata": {
        "id": "f89PasB2EEkM"
      },
      "source": [
        "# Install dependencies \n",
        "!pip install -r /content/rag-end2end-retriever/requirements.txt"
      ],
      "execution_count": null,
      "outputs": []
    },
    {
      "cell_type": "code",
      "metadata": {
        "id": "IYixCZMhEIKj"
      },
      "source": [
        "# Run fine-tuning script \n",
        "%cd /content/rag-end2end-retriever\n",
        "!chmod 755 /content/rag-end2end-retriever/test_run/test_finetune.sh\n",
        "!/content/rag-end2end-retriever/test_run/test_finetune.sh"
      ],
      "execution_count": null,
      "outputs": []
    }
  ]
}